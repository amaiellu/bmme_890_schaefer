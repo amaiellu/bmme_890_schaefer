{
 "cells": [
  {
   "cell_type": "markdown",
   "metadata": {
    "slideshow": {
     "slide_type": "slide"
    }
   },
   "source": [
    "# Lecture 5. Linear Algebra\n",
    "### adapted from http://cs229.stanford.edu/section/cs229-linalg.pdf"
   ]
  },
  {
   "cell_type": "markdown",
   "metadata": {
    "slideshow": {
     "slide_type": "slide"
    }
   },
   "source": [
    "## Linear algebra: a compact way to represent and operate on sets of linear equations\n",
    "\n",
    "$$\n",
    "\\begin{array}{ccc}\n",
    "4x_1 & − & 5x_2 & = &−13 \\\\\n",
    "−2x_1 & + & 3x_2 & = & 9\n",
    "\\end{array}$$\n",
    "  \n",
    "$$ Ax = b $$\n",
    " \n",
    "$$A = \\left[ \\begin{array}{cc} 4 & -5\n",
    "\\\\-2 & 3   \\end{array} \\right] , \n",
    "b = \\left[ \\begin{array}{c} -13 \n",
    "\\\\9 \\end{array} \\right]$$"
   ]
  },
  {
   "cell_type": "markdown",
   "metadata": {
    "slideshow": {
     "slide_type": "slide"
    }
   },
   "source": [
    "## Basic notation\n",
    "![](assets/Lecture_5_text-497ae026.png)"
   ]
  },
  {
   "cell_type": "code",
   "execution_count": 1,
   "metadata": {
    "slideshow": {
     "slide_type": "subslide"
    }
   },
   "outputs": [
    {
     "data": {
      "text/plain": [
       "6"
      ]
     },
     "execution_count": 1,
     "metadata": {},
     "output_type": "execute_result"
    }
   ],
   "source": [
    "import numpy as np\n",
    "A=np.array([[1,2,3],[4,5,6]])\n",
    "A[1,2]"
   ]
  },
  {
   "cell_type": "code",
   "execution_count": 2,
   "metadata": {},
   "outputs": [
    {
     "data": {
      "text/plain": [
       "3"
      ]
     },
     "execution_count": 2,
     "metadata": {},
     "output_type": "execute_result"
    }
   ],
   "source": [
    "a = np.array([1,2,3])\n",
    "a.T\n",
    "a[2]"
   ]
  },
  {
   "cell_type": "markdown",
   "metadata": {
    "slideshow": {
     "slide_type": "subslide"
    }
   },
   "source": [
    "![](assets/Lecture_5_text-34cbc671.png)"
   ]
  },
  {
   "cell_type": "markdown",
   "metadata": {
    "slideshow": {
     "slide_type": "subslide"
    }
   },
   "source": [
    "![](assets/Lecture_5_text-018775c9.png)"
   ]
  },
  {
   "cell_type": "code",
   "execution_count": 3,
   "metadata": {
    "slideshow": {
     "slide_type": "subslide"
    }
   },
   "outputs": [
    {
     "data": {
      "text/plain": [
       "array([4, 5, 6])"
      ]
     },
     "execution_count": 3,
     "metadata": {},
     "output_type": "execute_result"
    }
   ],
   "source": [
    "A[:,0]\n",
    "A[1,:] #in python you can simply use A[1]"
   ]
  },
  {
   "cell_type": "markdown",
   "metadata": {
    "slideshow": {
     "slide_type": "slide"
    }
   },
   "source": [
    "## Element-wise Matrix product (Hadamard)\n",
    "For $A,B \\in \\mathbb{R}^{m\\times n}$\n",
    "\n",
    "$C = A*B$ \n",
    "\n",
    "$C_{ij}=A_{ij}B_{ij}$"
   ]
  },
  {
   "cell_type": "markdown",
   "metadata": {
    "slideshow": {
     "slide_type": "slide"
    }
   },
   "source": [
    "### Exercise compute A*A using two for loops\n",
    "\n",
    "A = np.random.random((2,3))\n",
    "\n",
    "C = np.zeros((2,3))"
   ]
  },
  {
   "cell_type": "code",
   "execution_count": 4,
   "metadata": {
    "slideshow": {
     "slide_type": "slide"
    }
   },
   "outputs": [
    {
     "data": {
      "text/plain": [
       "0.0"
      ]
     },
     "execution_count": 4,
     "metadata": {},
     "output_type": "execute_result"
    }
   ],
   "source": [
    "A=np.array([[1,2,3],[4,5,6]])\n",
    "AA = np.empty(A.shape)\n",
    "for i in range(A.shape[0]):\n",
    "  for j in range(A.shape[1]):\n",
    "     AA[i,j] = A[i,j]*A[i,j]\n",
    "\n",
    "np.sum(np.abs(AA-A*A))"
   ]
  },
  {
   "cell_type": "markdown",
   "metadata": {
    "slideshow": {
     "slide_type": "slide"
    }
   },
   "source": [
    "## Poll quiz 1"
   ]
  },
  {
   "cell_type": "markdown",
   "metadata": {
    "slideshow": {
     "slide_type": "slide"
    }
   },
   "source": [
    "## Matrix multiplication\n",
    "![](assets/Lecture_5_text-6562178e.png)"
   ]
  },
  {
   "cell_type": "code",
   "execution_count": 5,
   "metadata": {
    "slideshow": {
     "slide_type": "subslide"
    }
   },
   "outputs": [
    {
     "data": {
      "text/plain": [
       "0.0"
      ]
     },
     "execution_count": 5,
     "metadata": {},
     "output_type": "execute_result"
    }
   ],
   "source": [
    "# implement with for loops the matrix multiplication A@B\n",
    "# with two random matrices.\n",
    "import numpy as np\n",
    "A = np.random.random((2,3))\n",
    "B = np.random.random((3,4))\n",
    "AB = np.zeros((A.shape[0],B.shape[1]))\n",
    "for i in range(A.shape[0]):\n",
    "  for j in range(B.shape[1]):\n",
    "    for k in range(A.shape[1]):\n",
    "      AB[i,j] +=  A[i,k]*B[k,j]\n",
    "\n",
    "np.sum(np.abs(AB-A@B))"
   ]
  },
  {
   "cell_type": "markdown",
   "metadata": {
    "slideshow": {
     "slide_type": "slide"
    }
   },
   "source": [
    "## Vector-vector products\n",
    "![](assets/Lecture_5_text-5e5f73cf.png)  "
   ]
  },
  {
   "cell_type": "markdown",
   "metadata": {
    "slideshow": {
     "slide_type": "subslide"
    }
   },
   "source": [
    "### Implement the vector-vector product without using @ "
   ]
  },
  {
   "cell_type": "code",
   "execution_count": 6,
   "metadata": {
    "slideshow": {
     "slide_type": "subslide"
    }
   },
   "outputs": [
    {
     "name": "stdout",
     "output_type": "stream",
     "text": [
      "0.0\n",
      "0.0\n"
     ]
    }
   ],
   "source": [
    "a = np.random.random((3,))\n",
    "b = np.random.random((3,))\n",
    "c = np.zeros((3,))\n",
    "\n",
    "for n in range(len(a)):\n",
    "    c += a[n]*b[n]\n",
    "\n",
    "print(np.sum(np.abs(c-a@b)))\n",
    "print(np.sum(np.abs(c-np.inner(a,b))))"
   ]
  },
  {
   "cell_type": "markdown",
   "metadata": {
    "slideshow": {
     "slide_type": "subslide"
    }
   },
   "source": [
    "![](assets/Lecture_5_text-875660a3.png)"
   ]
  },
  {
   "cell_type": "code",
   "execution_count": 7,
   "metadata": {
    "slideshow": {
     "slide_type": "subslide"
    }
   },
   "outputs": [
    {
     "name": "stdout",
     "output_type": "stream",
     "text": [
      "(3,)\n",
      "(4,)\n",
      "0.0\n"
     ]
    }
   ],
   "source": [
    "a = np.random.random((3,))\n",
    "b = np.random.random((4,))\n",
    "print(a.shape)\n",
    "print(b.shape)\n",
    "rows, cols = (len(a), len(b))\n",
    "c = np.zeros((rows,cols))\n",
    "\n",
    "for r_ in range(rows):\n",
    "    for c_ in range(cols):\n",
    "        c[r_,c_] = a[r_]*b[c_]\n",
    "\n",
    "print(np.sum(np.abs(c-np.outer(a,b))))"
   ]
  },
  {
   "cell_type": "code",
   "execution_count": 8,
   "metadata": {},
   "outputs": [
    {
     "name": "stdout",
     "output_type": "stream",
     "text": [
      "(3, 1)\n",
      "(1, 4)\n",
      "0.0\n"
     ]
    }
   ],
   "source": [
    "a = np.random.random((3,1))\n",
    "b = np.random.random((1,4))\n",
    "print(a.shape)\n",
    "print(b.shape)\n",
    "# example of broadcasting\n",
    "print(np.sum(np.abs(a@b-np.outer(a,b))))"
   ]
  },
  {
   "cell_type": "markdown",
   "metadata": {
    "slideshow": {
     "slide_type": "subslide"
    }
   },
   "source": [
    "### create two random column vectors of length 3\n",
    "* compute their inner product with one for loop\n",
    "* compute their outer product with two for loops\n",
    "* compute the outer product using the @ symbol alone"
   ]
  },
  {
   "cell_type": "code",
   "execution_count": 36,
   "metadata": {},
   "outputs": [],
   "source": [
    "# create two random length 3 column vectors\n",
    "a=np.random.random((1,3))\n",
    "b=np.random.random((1,3))\n",
    "ab=0\n",
    "\n"
   ]
  },
  {
   "cell_type": "code",
   "execution_count": 37,
   "metadata": {},
   "outputs": [
    {
     "data": {
      "text/plain": [
       "array([[0.]])"
      ]
     },
     "execution_count": 37,
     "metadata": {},
     "output_type": "execute_result"
    }
   ],
   "source": [
    "# compute their inner product\n",
    "for i in range(0,a.shape[1]):\n",
    "    ab+=a[0][i]*b[0][i] \n",
    "    \n",
    "ab-np.inner(a,b)"
   ]
  },
  {
   "cell_type": "code",
   "execution_count": 39,
   "metadata": {},
   "outputs": [],
   "source": [
    "# compute their outer product with for loops\n",
    "AB=np.zeros((3,3))\n",
    "for i in range(0,a.shape[1]):\n",
    "    for j in range(0,b.shape[1]):\n",
    "        AB[i,j]=a[0][i]*b[0][j]\n",
    "AB-np.outer(a,b)"
   ]
  },
  {
   "cell_type": "code",
   "execution_count": 44,
   "metadata": {},
   "outputs": [
    {
     "data": {
      "text/plain": [
       "array([[0., 0., 0.],\n",
       "       [0., 0., 0.],\n",
       "       [0., 0., 0.]])"
      ]
     },
     "execution_count": 44,
     "metadata": {},
     "output_type": "execute_result"
    }
   ],
   "source": [
    "#computer their outer product using @\n",
    "outer=a.T@b\n",
    "outer-np.outer(a,b)"
   ]
  },
  {
   "cell_type": "markdown",
   "metadata": {
    "slideshow": {
     "slide_type": "subslide"
    }
   },
   "source": [
    "![](assets/Lecture_5_text-d0cef9bc.png)"
   ]
  },
  {
   "cell_type": "code",
   "execution_count": 9,
   "metadata": {},
   "outputs": [
    {
     "data": {
      "text/plain": [
       "array([[1, 1, 1],\n",
       "       [2, 2, 2],\n",
       "       [3, 3, 3]])"
      ]
     },
     "execution_count": 9,
     "metadata": {},
     "output_type": "execute_result"
    }
   ],
   "source": [
    "a = [1,2,3]\n",
    "np.outer(a,[1,1,1])"
   ]
  },
  {
   "cell_type": "markdown",
   "metadata": {
    "slideshow": {
     "slide_type": "slide"
    }
   },
   "source": [
    "## Quiz number 4"
   ]
  },
  {
   "cell_type": "code",
   "execution_count": 11,
   "metadata": {},
   "outputs": [
    {
     "name": "stdout",
     "output_type": "stream",
     "text": [
      "1.215393920429561\n",
      "1.1024490557071382\n",
      "1.2153939204295607\n"
     ]
    }
   ],
   "source": [
    "import numpy as np\n",
    "a = np.random.random((3,))\n",
    "print(a.T@a)\n",
    "print(np.linalg.norm(a, ord=2))\n",
    "print(np.linalg.norm(a, ord=2)**2)\n"
   ]
  },
  {
   "cell_type": "markdown",
   "metadata": {
    "slideshow": {
     "slide_type": "slide"
    }
   },
   "source": [
    "## Matrix-vector products\n",
    "![](assets/Lecture_5_text-7f3aa5f7.png)\n",
    "![](assets/Lecture_5_text-95ec9688.png)\n",
    "![](assets/Lecture_5_text-cf1e838d.png)"
   ]
  },
  {
   "cell_type": "code",
   "execution_count": 10,
   "metadata": {
    "slideshow": {
     "slide_type": "subslide"
    }
   },
   "outputs": [
    {
     "name": "stdout",
     "output_type": "stream",
     "text": [
      "3.3306690738754696e-16\n"
     ]
    }
   ],
   "source": [
    "A = np.random.random((3,4))\n",
    "x = np.random.random((4,))\n",
    "y = np.zeros( A.shape[0])\n",
    "\n",
    "for n in range(A.shape[0]):\n",
    "        y[n] = A[n,:]@x\n",
    "            \n",
    "print( np.sum( np.abs( y - A@x ) ) )            \n",
    "    "
   ]
  },
  {
   "cell_type": "code",
   "execution_count": 11,
   "metadata": {},
   "outputs": [
    {
     "name": "stdout",
     "output_type": "stream",
     "text": [
      "3.3306690738754696e-16\n"
     ]
    }
   ],
   "source": [
    "y = np.zeros( A.shape[0])\n",
    "\n",
    "for n in range(A.shape[1]):\n",
    "        y += A[:,n]*x[n]\n",
    "            \n",
    "print( np.sum( np.abs( y - A@x ) ) )            \n",
    "    "
   ]
  },
  {
   "cell_type": "markdown",
   "metadata": {
    "slideshow": {
     "slide_type": "subslide"
    }
   },
   "source": [
    "* A columns, B rows\n",
    "![](assets/Lecture_5_text-4da76187.png)\n",
    "AB is equal to the sum, over all i, of the outer product of the i-th column of A and the i-th row of B. Difficult expression."
   ]
  },
  {
   "cell_type": "code",
   "execution_count": 12,
   "metadata": {},
   "outputs": [
    {
     "name": "stdout",
     "output_type": "stream",
     "text": [
      "1.2212453270876722e-15\n"
     ]
    }
   ],
   "source": [
    "A = np.random.random((3,4))\n",
    "B = np.random.random((4,5))\n",
    "row, cols = (A.shape[0],B.shape[1])\n",
    "C = np.zeros((row, cols))\n",
    "\n",
    "for n in range(A.shape[1]):\n",
    "        C += np.outer(A[:,n],B[n,:])\n",
    "            \n",
    "print( np.sum( np.abs( C - A@B ) ) )            \n",
    "    "
   ]
  },
  {
   "cell_type": "markdown",
   "metadata": {
    "slideshow": {
     "slide_type": "subslide"
    }
   },
   "source": [
    "### Properties of multiplication\n",
    "![](assets/Lecture_5_text-3ce7133e.png)"
   ]
  },
  {
   "cell_type": "markdown",
   "metadata": {
    "slideshow": {
     "slide_type": "slide"
    }
   },
   "source": [
    "## Operations and properties of matrices"
   ]
  },
  {
   "cell_type": "markdown",
   "metadata": {
    "slideshow": {
     "slide_type": "subslide"
    }
   },
   "source": [
    "### Identity matrix\n",
    "![](assets/Lecture_5_text-e988a518.png)"
   ]
  },
  {
   "cell_type": "code",
   "execution_count": 13,
   "metadata": {},
   "outputs": [
    {
     "data": {
      "text/plain": [
       "array([[1., 0., 0.],\n",
       "       [0., 1., 0.],\n",
       "       [0., 0., 1.]])"
      ]
     },
     "execution_count": 13,
     "metadata": {},
     "output_type": "execute_result"
    }
   ],
   "source": [
    "np.eye(3)"
   ]
  },
  {
   "cell_type": "markdown",
   "metadata": {
    "slideshow": {
     "slide_type": "subslide"
    }
   },
   "source": [
    "### Diagonal Matrix\n",
    "![](assets/Lecture_5_text-0e346bb7.png)"
   ]
  },
  {
   "cell_type": "code",
   "execution_count": 14,
   "metadata": {},
   "outputs": [
    {
     "data": {
      "text/plain": [
       "array([[1, 0, 0],\n",
       "       [0, 2, 0],\n",
       "       [0, 0, 3]])"
      ]
     },
     "execution_count": 14,
     "metadata": {},
     "output_type": "execute_result"
    }
   ],
   "source": [
    "np.diag([1,2,3])"
   ]
  },
  {
   "cell_type": "markdown",
   "metadata": {
    "slideshow": {
     "slide_type": "subslide"
    }
   },
   "source": [
    "![](assets/Lecture_5_text-cfe28662.png)\n",
    "![](assets/Lecture_5_text-37b4bcaf.png)"
   ]
  },
  {
   "cell_type": "code",
   "execution_count": 15,
   "metadata": {},
   "outputs": [
    {
     "name": "stdout",
     "output_type": "stream",
     "text": [
      "[[1 2 3]\n",
      " [1 2 3]\n",
      " [1 2 3]]\n",
      "******\n",
      "[[1 1 1]\n",
      " [2 2 2]\n",
      " [3 3 3]]\n"
     ]
    }
   ],
   "source": [
    "T = np.repeat([[1,2,3]],repeats=3, axis=0)\n",
    "print(T)\n",
    "print('******')\n",
    "print(T.T)"
   ]
  },
  {
   "cell_type": "markdown",
   "metadata": {},
   "source": [
    "### Inverse of a matrix\n",
    "![](assets/Lecture_5_text-ff6ad71f.png)\n",
    "\n",
    "* A is **invertible** is $A^{-1}$ exists\n",
    "* A is **non-invertible** otherwise"
   ]
  },
  {
   "cell_type": "code",
   "execution_count": 26,
   "metadata": {},
   "outputs": [
    {
     "name": "stdout",
     "output_type": "stream",
     "text": [
      "[[-2.   1. ]\n",
      " [ 1.5 -0.5]]\n"
     ]
    },
    {
     "data": {
      "text/plain": [
       "True"
      ]
     },
     "execution_count": 26,
     "metadata": {},
     "output_type": "execute_result"
    }
   ],
   "source": [
    "from numpy.linalg import inv\n",
    "a = np.array([[1., 2.], [3., 4.]])\n",
    "ainv = inv(a)\n",
    "print(ainv)\n",
    "np.allclose(np.dot(a, ainv), np.eye(2))\n",
    "True\n",
    "np.allclose(np.dot(ainv, a), np.eye(2))\n",
    "True"
   ]
  },
  {
   "cell_type": "markdown",
   "metadata": {},
   "source": [
    "### Properties of the inverse\n",
    "![](assets/Lecture_5_text-944d0473.png)\n"
   ]
  },
  {
   "cell_type": "markdown",
   "metadata": {
    "slideshow": {
     "slide_type": "subslide"
    }
   },
   "source": [
    "### Symmetric matrices\n",
    "![](assets/Lecture_5_text-57e7e745.png)"
   ]
  },
  {
   "cell_type": "code",
   "execution_count": 16,
   "metadata": {},
   "outputs": [
    {
     "name": "stdout",
     "output_type": "stream",
     "text": [
      "[[2 3 4]\n",
      " [3 4 5]\n",
      " [4 5 6]]\n",
      "****** SYMMETRIC *****\n",
      "[[2 3 4]\n",
      " [3 4 5]\n",
      " [4 5 6]]\n"
     ]
    }
   ],
   "source": [
    "S = T+T.T\n",
    "print(S)\n",
    "print('****** SYMMETRIC *****')\n",
    "print(S.T)"
   ]
  },
  {
   "cell_type": "code",
   "execution_count": 17,
   "metadata": {},
   "outputs": [
    {
     "name": "stdout",
     "output_type": "stream",
     "text": [
      "[[ 0  1  2]\n",
      " [-1  0  1]\n",
      " [-2 -1  0]]\n",
      "****** ANTI-SYMMETRIC *****\n",
      "[[ 0 -1 -2]\n",
      " [ 1  0 -1]\n",
      " [ 2  1  0]]\n"
     ]
    }
   ],
   "source": [
    "AS = T-T.T\n",
    "print(AS)\n",
    "print('****** ANTI-SYMMETRIC *****')\n",
    "print(AS.T)"
   ]
  },
  {
   "cell_type": "markdown",
   "metadata": {
    "slideshow": {
     "slide_type": "subslide"
    }
   },
   "source": [
    "### Trace of a matrix\n",
    "![](assets/Lecture_5_text-1d8e4959.png)"
   ]
  },
  {
   "cell_type": "markdown",
   "metadata": {
    "slideshow": {
     "slide_type": "slide"
    }
   },
   "source": [
    "# Quiz number 3"
   ]
  },
  {
   "cell_type": "code",
   "execution_count": 18,
   "metadata": {},
   "outputs": [
    {
     "name": "stdout",
     "output_type": "stream",
     "text": [
      "[[2 3 4]\n",
      " [3 4 5]\n",
      " [4 5 6]]\n",
      "12\n",
      "[[ 0  1  2]\n",
      " [-1  0  1]\n",
      " [-2 -1  0]]\n",
      "0\n"
     ]
    }
   ],
   "source": [
    "print(S)\n",
    "print(np.trace(S))\n",
    "print(AS)\n",
    "print(np.trace(AS))"
   ]
  },
  {
   "cell_type": "markdown",
   "metadata": {
    "slideshow": {
     "slide_type": "subslide"
    }
   },
   "source": [
    "### Properties of trace\n",
    "![](assets/Lecture_5_text-13f536da.png)"
   ]
  },
  {
   "cell_type": "markdown",
   "metadata": {
    "slideshow": {
     "slide_type": "subslide"
    }
   },
   "source": [
    "### Norm of a vector \n",
    "![](assets/Lecture_5_text-531d34a1.png)\n",
    "![](assets/Lecture_5_text-128b60f7.png)"
   ]
  },
  {
   "cell_type": "code",
   "execution_count": 19,
   "metadata": {
    "slideshow": {
     "slide_type": "subslide"
    }
   },
   "outputs": [
    {
     "name": "stdout",
     "output_type": "stream",
     "text": [
      "**** L_2 **** \n",
      "1.0\n",
      "3.7416573867739413\n",
      "3.7416573867739413\n",
      "**** L_1 **** \n",
      "1.0\n",
      "6.0\n",
      "**** L_inf **** \n",
      "1.0\n",
      "3.0\n"
     ]
    }
   ],
   "source": [
    "from numpy.linalg import norm\n",
    "\n",
    "print('**** L_2 **** ')\n",
    "print(norm([1]))\n",
    "print(norm([1,-2,3]))\n",
    "print(norm([1,-2,3], ord=2))\n",
    "print('**** L_1 **** ')\n",
    "print(norm([1], ord=1))\n",
    "print(norm([1,-2,3],  ord=1))\n",
    "print('**** L_inf **** ')\n",
    "print(norm([1], ord=np.inf))\n",
    "print(norm([1,-2,3],  ord=np.inf))"
   ]
  },
  {
   "cell_type": "markdown",
   "metadata": {
    "slideshow": {
     "slide_type": "subslide"
    }
   },
   "source": [
    "### Norm of a Matrix\n",
    "\n",
    "* ![](assets/Lecture_5_text-cfaf3402.png)\n",
    "\n",
    "* $L_1$ matrix norm of a matrix is equal to the maximum of $L_1$ norm of a column of the matrix."
   ]
  },
  {
   "cell_type": "code",
   "execution_count": 20,
   "metadata": {
    "scrolled": true,
    "slideshow": {
     "slide_type": "-"
    }
   },
   "outputs": [
    {
     "name": "stdout",
     "output_type": "stream",
     "text": [
      "**** FROEBINIUS NORM **** \n",
      "9.539392014169456\n",
      "**** L_1 NORM **** \n",
      "9.0\n"
     ]
    }
   ],
   "source": [
    "from numpy.linalg import norm\n",
    "\n",
    "print('**** FROEBINIUS NORM **** ')\n",
    "print(norm([[1,2,3],\n",
    "            [4,5,6]], ord='fro'))\n",
    "print('**** L_1 NORM **** ')\n",
    "print(norm([[1,2,3],\n",
    "            [4,5,6]], ord=1))\n",
    "#help(norm)"
   ]
  },
  {
   "cell_type": "markdown",
   "metadata": {
    "slideshow": {
     "slide_type": "slide"
    }
   },
   "source": [
    "# Quiz number 4"
   ]
  },
  {
   "cell_type": "markdown",
   "metadata": {
    "slideshow": {
     "slide_type": "slide"
    }
   },
   "source": [
    "## Gradient of a Matrix\n",
    "![](assets/Lecture_5_text-a5bde8f6.png)\n",
    "![](assets/Lecture_5_text-aff74ac9.png)\n"
   ]
  },
  {
   "cell_type": "markdown",
   "metadata": {},
   "source": [
    "### Concept of derivative\n",
    "![](assets/Lecture_5_text-31c50a77.png)\n",
    "http://xaktly.com/TheDerivative.html"
   ]
  },
  {
   "cell_type": "markdown",
   "metadata": {
    "slideshow": {
     "slide_type": "subslide"
    }
   },
   "source": [
    "### Concept of gradient\n",
    "![](assets/Lecture_5_text-a5e0b340.png)\n",
    "https://ozzieliu.com/2016/02/09/gradient-descent-tutorial/"
   ]
  }
 ],
 "metadata": {
  "celltoolbar": "Slideshow",
  "kernelspec": {
   "display_name": "Python 3",
   "language": "python",
   "name": "python3"
  },
  "language_info": {
   "codemirror_mode": {
    "name": "ipython",
    "version": 3
   },
   "file_extension": ".py",
   "mimetype": "text/x-python",
   "name": "python",
   "nbconvert_exporter": "python",
   "pygments_lexer": "ipython3",
   "version": "3.7.3"
  },
  "rise": {
   "backimage": "mybackimage.png"
  }
 },
 "nbformat": 4,
 "nbformat_minor": 2
}
