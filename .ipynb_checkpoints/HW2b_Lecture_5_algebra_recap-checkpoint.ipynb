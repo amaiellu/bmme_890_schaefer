{
 "cells": [
  {
   "cell_type": "markdown",
   "metadata": {
    "slideshow": {
     "slide_type": "slide"
    }
   },
   "source": [
    "# Homeworks\n",
    "\n",
    "* For the following interpretations of Matrix-vector and Matrix-Matrix product write the corresponding python code using for loops, as exemplified during the lecture.\n",
    "* You need to complete the example partial codes provided below\n",
    "* Two relevant examples from class follow\n"
   ]
  },
  {
   "cell_type": "markdown",
   "metadata": {
    "slideshow": {
     "slide_type": "subslide"
    }
   },
   "source": [
    "### Example matrix-vector products\n",
    "![](assets/Lecture_5_text-7f3aa5f7.png)\n",
    "![](assets/Lecture_5_text-95ec9688.png)\n",
    "![](assets/Lecture_5_text-cf1e838d.png)"
   ]
  },
  {
   "cell_type": "code",
   "execution_count": 85,
   "metadata": {
    "slideshow": {
     "slide_type": "subslide"
    }
   },
   "outputs": [
    {
     "name": "stdout",
     "output_type": "stream",
     "text": [
      "False\n"
     ]
    }
   ],
   "source": [
    "import numpy as np\n",
    "# example writing A by rows\n",
    "A = np.random.random((3,4))\n",
    "x = np.random.random((4,))\n",
    "y = np.zeros( A.shape[0])\n",
    "\n",
    "for n in range(A.shape[0]):\n",
    "        y[n] = A[n,:]@x\n",
    "            \n",
    "print(np.allclose(y,A@x)) # check if vectors are the same          "
   ]
  },
  {
   "cell_type": "code",
   "execution_count": 5,
   "metadata": {
    "slideshow": {
     "slide_type": "-"
    }
   },
   "outputs": [
    {
     "name": "stdout",
     "output_type": "stream",
     "text": [
      "True\n"
     ]
    }
   ],
   "source": [
    "# example writing A by columns\n",
    "y = np.zeros( A.shape[0])\n",
    "\n",
    "for n in range(A.shape[1]):\n",
    "        y += A[:,n]*x[n]\n",
    "            \n",
    "print(np.allclose(y,A@x))  # check if vectors are the same          "
   ]
  },
  {
   "cell_type": "markdown",
   "metadata": {
    "slideshow": {
     "slide_type": "slide"
    }
   },
   "source": [
    "### Exercise 1:  vector-matrix product, with matrix interpreted as column vectors  (2 pts)"
   ]
  },
  {
   "cell_type": "markdown",
   "metadata": {
    "slideshow": {
     "slide_type": "slide"
    }
   },
   "source": [
    "![](assets/Lecture_5_text-fd5b6364.png)"
   ]
  },
  {
   "cell_type": "code",
   "execution_count": 126,
   "metadata": {},
   "outputs": [
    {
     "name": "stdout",
     "output_type": "stream",
     "text": [
      "True\n"
     ]
    }
   ],
   "source": [
    "x = np.random.random((3,1))\n",
    "A = np.random.random((3,4))\n",
    "y = np.zeros((x.T.shape[0], A.shape[1]))\n",
    "\n",
    "import numpy as np\n",
    "\n",
    "for i in range(A.shape[1]):\n",
    "    y[:,i]=A[:,i]@x\n",
    "    \n",
    "    \n",
    "print(np.allclose(y,x.T@A)) # check if vectors are the same  \n"
   ]
  },
  {
   "cell_type": "code",
   "execution_count": 104,
   "metadata": {},
   "outputs": [
    {
     "data": {
      "text/plain": [
       "array([[0.65378217, 0.39340106, 0.44144315, 0.06945347]])"
      ]
     },
     "execution_count": 104,
     "metadata": {},
     "output_type": "execute_result"
    }
   ],
   "source": [
    "x.T@A"
   ]
  },
  {
   "cell_type": "markdown",
   "metadata": {
    "slideshow": {
     "slide_type": "slide"
    }
   },
   "source": [
    "### Exercise 2:  vector-matrix product, with matrix interpreted as row vectors  (2 pts)"
   ]
  },
  {
   "cell_type": "markdown",
   "metadata": {
    "slideshow": {
     "slide_type": "slide"
    }
   },
   "source": [
    "![](assets/Lecture_5_text-3da1ef5b.png)"
   ]
  },
  {
   "cell_type": "code",
   "execution_count": 114,
   "metadata": {
    "slideshow": {
     "slide_type": "slide"
    }
   },
   "outputs": [
    {
     "name": "stdout",
     "output_type": "stream",
     "text": [
      "True\n"
     ]
    }
   ],
   "source": [
    "import numpy as np\n",
    "# example writing A by rows\n",
    "x = np.random.random((3,1))\n",
    "A = np.random.random((3,4))\n",
    "y = np.zeros((x.T.shape[0], A.shape[1]))\n",
    "\n",
    "# ADD YOUR CODE HERE   \n",
    "\n",
    "for i in range(A.shape[0]):\n",
    "    y+=A[i,:]*x[i,:]\n",
    "   \n",
    "             \n",
    "\n",
    "print(np.allclose(y,x.T@A)) # check if vectors are the same          "
   ]
  },
  {
   "cell_type": "markdown",
   "metadata": {},
   "source": [
    "### Exercise 3:  matrix-matrix product, with two matrices interpreted as row and column vectors  (2 pts)"
   ]
  },
  {
   "cell_type": "markdown",
   "metadata": {
    "slideshow": {
     "slide_type": "slide"
    }
   },
   "source": [
    "# matrix-matrix products\n",
    "\n",
    "we will look at the different ways to interpret the product C = AB, generalizing what seen above\n",
    "\n",
    "* A rows, B columns\n",
    "![](assets/Lecture_5_text-291584e5.png)"
   ]
  },
  {
   "cell_type": "code",
   "execution_count": 127,
   "metadata": {},
   "outputs": [
    {
     "name": "stdout",
     "output_type": "stream",
     "text": [
      "True\n"
     ]
    }
   ],
   "source": [
    "import numpy as np\n",
    "# example writing A by rows\n",
    "A = np.random.random((3,4))\n",
    "B = np.random.random((4,5))\n",
    "C = np.zeros((A.shape[0], B.shape[1]))\n",
    "row, col = C.shape\n",
    "\n",
    "## ADD YOUR CODE HERE\n",
    "\n",
    "for i in range(A.shape[0]):\n",
    "    for j in range(B.shape[1]):\n",
    "        C[i,j]=A[i,:]@B[:,j]\n",
    "    \n",
    "print(np.allclose(C,A@B)) # check if vectors are the same          "
   ]
  },
  {
   "cell_type": "markdown",
   "metadata": {
    "slideshow": {
     "slide_type": "slide"
    }
   },
   "source": [
    "### Exercise 4:  matrix-matrix product, with two matrices interpreted as column and row vectors  (2 pts)"
   ]
  },
  {
   "cell_type": "markdown",
   "metadata": {
    "slideshow": {
     "slide_type": "subslide"
    }
   },
   "source": [
    "* A columns, B rows\n",
    "![](assets/Lecture_5_text-4da76187.png)\n",
    "AB is equal to the sum, over all i, of the outer product of the i-th column of A and the i-th row of B. Difficult expression."
   ]
  },
  {
   "cell_type": "code",
   "execution_count": 146,
   "metadata": {},
   "outputs": [
    {
     "name": "stdout",
     "output_type": "stream",
     "text": [
      "True\n"
     ]
    }
   ],
   "source": [
    "import numpy as np\n",
    "# example writing A by rows\n",
    "A = np.random.random((3,4))\n",
    "B = np.random.random((4,5))\n",
    "C = np.zeros((A.shape[0], B.shape[1]))\n",
    "\n",
    "\n",
    "## ADD YOUR CODE HERE (beware this is tricky but highly educative!\n",
    "for i in range(A.shape[0]):\n",
    "    for j in range(B.shape[1]):\n",
    "           for k in range(A.shape[1]):\n",
    "                C[i,j]+=A[i,k]*B[k,j]\n",
    "    \n",
    "    \n",
    "print(np.allclose(C,A@B)) # check if vectors are the same          "
   ]
  },
  {
   "cell_type": "markdown",
   "metadata": {},
   "source": [
    "### Exercise 5:  trace of a matrix  (1 pt)\n",
    "\n",
    "*  implement the trace operation using one for loop\n",
    "*  probe using python code the properties of traces"
   ]
  },
  {
   "cell_type": "markdown",
   "metadata": {
    "slideshow": {
     "slide_type": "subslide"
    }
   },
   "source": [
    "### trace of a matrix\n",
    "![](assets/Lecture_5_text-1d8e4959.png)"
   ]
  },
  {
   "cell_type": "code",
   "execution_count": 77,
   "metadata": {},
   "outputs": [
    {
     "name": "stdout",
     "output_type": "stream",
     "text": [
      "True\n"
     ]
    }
   ],
   "source": [
    "#implement the trace operation using one for loop\n",
    "A = np.random.random((3,3))\n",
    "\n",
    "### add your code here\n",
    "trc=0\n",
    "\n",
    "for n in range(A.shape[0]):\n",
    "    trc+=A[n,n]\n",
    "\n",
    "\n",
    "print(np.allclose(trc,np.trace(A))) # check if vectors are the same          "
   ]
  },
  {
   "cell_type": "markdown",
   "metadata": {
    "slideshow": {
     "slide_type": "subslide"
    }
   },
   "source": [
    "### Properties of trace\n",
    "![](assets/Lecture_5_text-13f536da.png)"
   ]
  },
  {
   "cell_type": "code",
   "execution_count": 84,
   "metadata": {},
   "outputs": [
    {
     "name": "stdout",
     "output_type": "stream",
     "text": [
      "True\n",
      "True\n",
      "True\n",
      "True\n",
      "True\n"
     ]
    }
   ],
   "source": [
    "# probe using python code the properties of traces\n",
    "# Example property one\n",
    "A = np.random.random((3,3))\n",
    "print(np.allclose(np.trace(A),np.trace(A.T)))\n",
    "\n",
    "# Example property two\n",
    "B = np.random.random((3,3))\n",
    "print(np.allclose(np.trace(A+B),np.trace(A) + np.trace(B)))\n",
    "\n",
    "\n",
    "## add here your code for property 3\n",
    "A = np.random.random((3,3))\n",
    "t=np.random.random()\n",
    "print(np.allclose(t*np.trace(A),np.trace(t*A)))\n",
    "\n",
    "## add here your code for property 4\n",
    "A = np.random.random((3,4))\n",
    "B = np.random.random((4,3))\n",
    "print(np.allclose(np.trace(A@B),np.trace(B@A)))\n",
    "\n",
    "\n",
    "## add here your code for property 5\n",
    "A = np.random.random((3,3))\n",
    "B = np.random.random((3,4))\n",
    "C = np.random.random((4,3))\n",
    "print(np.allclose(np.trace(A@B@C),np.trace(B@C@A),np.trace(C@A@B)))\n",
    "\n"
   ]
  },
  {
   "cell_type": "markdown",
   "metadata": {},
   "source": [
    "### Exercise 6:  Matrix-matrix multiplication with second matrix interpreted as column  (2 pts)"
   ]
  },
  {
   "cell_type": "markdown",
   "metadata": {
    "slideshow": {
     "slide_type": "subslide"
    }
   },
   "source": [
    "Set of matrix-vector products\n",
    "![](assets/Lecture_5_text-1a3dac83.png)\""
   ]
  },
  {
   "cell_type": "code",
   "execution_count": 141,
   "metadata": {},
   "outputs": [
    {
     "name": "stdout",
     "output_type": "stream",
     "text": [
      "True\n"
     ]
    }
   ],
   "source": [
    "A = np.random.random((3,4))\n",
    "B = np.random.random((4,5))\n",
    "rows, cols = A.shape[0], B.shape[1]\n",
    "C = np.zeros((rows, cols))\n",
    "\n",
    "## ADD YOUR CODE HERE\n",
    "\n",
    "for col in range(cols):\n",
    "    C[:,col]=A@B[:,col]\n",
    "    \n",
    "\n",
    "            \n",
    "print(np.allclose(C,A@B))     "
   ]
  },
  {
   "cell_type": "markdown",
   "metadata": {},
   "source": [
    "### Exercise 7:  Matrix-matrix multiplication with first matrix interpreted as rows  (2 pts)"
   ]
  },
  {
   "cell_type": "markdown",
   "metadata": {
    "slideshow": {
     "slide_type": "subslide"
    }
   },
   "source": [
    "![](assets/Lecture_5_text-5c8cebb4.png)"
   ]
  },
  {
   "cell_type": "code",
   "execution_count": 143,
   "metadata": {},
   "outputs": [
    {
     "name": "stdout",
     "output_type": "stream",
     "text": [
      "True\n"
     ]
    }
   ],
   "source": [
    "A = np.random.random((3,4))\n",
    "B = np.random.random((4,5))\n",
    "rows, cols = A.shape[0], B.shape[1]\n",
    "C = np.zeros((rows, cols))\n",
    "\n",
    "## ADD YOUR CODE HERE\n",
    "for row in range(rows):\n",
    "    C[row,:]=A[row,:]@B\n",
    "\n",
    "print(np.allclose(C,A@B))     "
   ]
  },
  {
   "cell_type": "code",
   "execution_count": null,
   "metadata": {},
   "outputs": [],
   "source": []
  }
 ],
 "metadata": {
  "celltoolbar": "Slideshow",
  "kernelspec": {
   "display_name": "Python 3",
   "language": "python",
   "name": "python3"
  },
  "language_info": {
   "codemirror_mode": {
    "name": "ipython",
    "version": 3
   },
   "file_extension": ".py",
   "mimetype": "text/x-python",
   "name": "python",
   "nbconvert_exporter": "python",
   "pygments_lexer": "ipython3",
   "version": "3.6.8"
  },
  "rise": {
   "backimage": "mybackimage.png"
  }
 },
 "nbformat": 4,
 "nbformat_minor": 2
}
