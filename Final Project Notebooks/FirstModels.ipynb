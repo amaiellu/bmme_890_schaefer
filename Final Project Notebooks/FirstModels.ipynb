{
 "cells": [
  {
   "cell_type": "code",
   "execution_count": 1,
   "metadata": {
    "colab": {},
    "colab_type": "code",
    "id": "xXmz2U6x-V0G"
   },
   "outputs": [
    {
     "ename": "NameError",
     "evalue": "name 'y_true' is not defined",
     "output_type": "error",
     "traceback": [
      "\u001b[1;31m---------------------------------------------------------------------------\u001b[0m",
      "\u001b[1;31mNameError\u001b[0m                                 Traceback (most recent call last)",
      "\u001b[1;32m<ipython-input-1-893ddb51c745>\u001b[0m in \u001b[0;36m<module>\u001b[1;34m\u001b[0m\n\u001b[0;32m      3\u001b[0m \u001b[1;32mimport\u001b[0m \u001b[0mmath\u001b[0m\u001b[1;33m\u001b[0m\u001b[1;33m\u001b[0m\u001b[0m\n\u001b[0;32m      4\u001b[0m \u001b[1;33m\u001b[0m\u001b[0m\n\u001b[1;32m----> 5\u001b[1;33m \u001b[0mR2\u001b[0m \u001b[1;33m=\u001b[0m \u001b[0mr2_score\u001b[0m\u001b[1;33m(\u001b[0m\u001b[0my_true\u001b[0m\u001b[1;33m,\u001b[0m \u001b[0my_pred\u001b[0m\u001b[1;33m)\u001b[0m\u001b[1;33m\u001b[0m\u001b[1;33m\u001b[0m\u001b[0m\n\u001b[0m\u001b[0;32m      6\u001b[0m \u001b[0mMSE\u001b[0m \u001b[1;33m=\u001b[0m \u001b[0mmean_squared_error\u001b[0m\u001b[1;33m(\u001b[0m\u001b[0my_true\u001b[0m\u001b[1;33m,\u001b[0m \u001b[0my_pred\u001b[0m\u001b[1;33m)\u001b[0m\u001b[1;33m\u001b[0m\u001b[1;33m\u001b[0m\u001b[0m\n\u001b[0;32m      7\u001b[0m \u001b[1;33m\u001b[0m\u001b[0m\n",
      "\u001b[1;31mNameError\u001b[0m: name 'y_true' is not defined"
     ]
    }
   ],
   "source": [
    "from sklearn.metrics import r2_score\n",
    "from sklearn.metrics import mean_squared_error\n",
    "import math  \n",
    "\n",
    "R2 = r2_score(y_true, y_pred)\n",
    "MSE = mean_squared_error(y_true, y_pred)\n",
    "\n",
    "df['R^2'] = r2_score\n",
    "df['RMSE'] = match.sqrt(MSE)"
   ]
  },
  {
   "cell_type": "code",
   "execution_count": 0,
   "metadata": {
    "colab": {},
    "colab_type": "code",
    "id": "Hr4eDxZb4by3"
   },
   "outputs": [],
   "source": [
    "\n",
    "from sklearn.linear_model import ElasticNet, Lasso,  BayesianRidge, LassoLarsIC\n",
    "from sklearn.ensemble import RandomForestRegressor,  GradientBoostingRegressor\n",
    "from sklearn.kernel_ridge import KernelRidge\n",
    "from sklearn.pipeline import make_pipeline\n",
    "from sklearn.preprocessing import RobustScaler\n",
    "from sklearn.base import BaseEstimator, TransformerMixin, RegressorMixin, clone\n",
    "from sklearn.model_selection import KFold, cross_val_score, train_test_split\n",
    "from sklearn.metrics import mean_squared_error\n",
    "import xgboost as xgb\n",
    "import lightgbm as lgb\n",
    "import sklearn\n",
    "import tensorflow as tf\n",
    "from tensorflow import keras\n",
    "\n",
    "\n",
    "\n",
    "\n",
    "## regressors set - up\n",
    "KRR = KernelRidge(alpha=0.6, kernel='polynomial', degree=2, coef0=2.5)\n",
    "lasso = make_pipeline(RobustScaler(), Lasso(alpha =0.0005, random_state=1))\n",
    "ENet = make_pipeline(RobustScaler(), ElasticNet(alpha=0.0005, l1_ratio=.9, random_state=3))\n",
    "GBoost = GradientBoostingRegressor(n_estimators=3000, learning_rate=0.05,\n",
    "                                   max_depth=4, max_features='sqrt',\n",
    "                                   min_samples_leaf=15, min_samples_split=10, \n",
    "                                   loss='huber', random_state =5)\n",
    "XGBoost = xgb.XGBRegressor(colsample_bytree=0.4603, gamma=0.0468, \n",
    "                             learning_rate=0.05, max_depth=3, \n",
    "                             min_child_weight=1.7817, n_estimators=2200,\n",
    "                             reg_alpha=0.4640, reg_lambda=0.8571,\n",
    "                             subsample=0.5213, silent=1,\n",
    "                             random_state =7, nthread = -1)\n",
    "LightgBoost = lgb.LGBMRegressor(objective='regression',num_leaves=5,\n",
    "                              learning_rate=0.05, n_estimators=720,\n",
    "                              max_bin = 55, bagging_fraction = 0.8,\n",
    "                              bagging_freq = 5, feature_fraction = 0.2319,\n",
    "                              feature_fraction_seed=9, bagging_seed=9,\n",
    "                              min_data_in_leaf =6, min_sum_hessian_in_leaf = 11)\n",
    "\n",
    "# stack set-up\n",
    "from mlxtend.regressor import StackingCVRegressor\n",
    "stack_gen = StackingCVRegressor(regressors=(KRR, lasso, ENet, GBoost,XGBoost,LightgBoost),\n",
    "                                meta_regressor=XGBoost,\n",
    "                                use_features_in_secondary=True)\n",
    "\n",
    "# SELU model\n",
    "\n",
    "modelS = keras.models.Sequential()\n",
    "\n",
    "modelS.add(keras.layers.Flatten(input_shape=[32, 32, 3]))\n",
    "for n_hidden in range(5):\n",
    "    modelS.add(keras.layers.Dense(50, activation=\"selu\",kernel_initializer=\"lecun_normal\"))\n",
    "modelS.add(keras.layers.Dense(10, activation=\"softmax\"))\n",
    "\n",
    "\n",
    "optimizer = keras.optimizers.Adam(learning_rate=0.0001, beta_1=0.9, beta_2=0.999, amsgrad=False)\n",
    "modelS.compile(loss=\"sparse_categorical_crossentropy\", optimizer=optimizer, metrics=[\"accuracy\"])\n",
    "\n",
    "# NN early stopping\n",
    "early_stopping_cb = keras.callbacks.EarlyStopping(patience=10,restore_best_weights=True)\n",
    "     \n",
    "n_epochs = 100\n",
    "\n",
    "\n"
   ]
  },
  {
   "cell_type": "code",
   "execution_count": 29,
   "metadata": {
    "colab": {
     "base_uri": "https://localhost:8080/",
     "height": 104
    },
    "colab_type": "code",
    "executionInfo": {
     "elapsed": 688,
     "status": "ok",
     "timestamp": 1575850640702,
     "user": {
      "displayName": "Sang Hun Chung",
      "photoUrl": "",
      "userId": "17916034272358538138"
     },
     "user_tz": 300
    },
    "id": "-tAjUpX2-XBg",
    "outputId": "23f2ea4c-768c-48f0-a3d9-35febe1a2a5f"
   },
   "outputs": [
    {
     "name": "stdout",
     "output_type": "stream",
     "text": [
      "(4, 5)\n"
     ]
    },
    {
     "name": "stderr",
     "output_type": "stream",
     "text": [
      "/usr/local/lib/python3.6/dist-packages/ipykernel_launcher.py:12: RuntimeWarning: invalid value encountered in true_divide\n",
      "  if sys.path[0] == '':\n",
      "/usr/local/lib/python3.6/dist-packages/ipykernel_launcher.py:13: RuntimeWarning: invalid value encountered in true_divide\n",
      "  del sys.path[0]\n"
     ]
    }
   ],
   "source": [
    "import numpy as np\n",
    "x_train = np.array([[1,3,1,0,7],[2,2,3,4,7],[3,2,3,4,7],[4,2,3,4,7],[4,2,3,4,7],[4,2,3,4,7],[4,2,3,4,7]])\n",
    "x_test = np.array([[1,3,1,0,7],[2,2,3,4,7],[3,2,3,4,7],[4,2,3,4,7],[4,2,3,4,7],[4,2,3,4,7],[4,2,3,4,7]])\n",
    "y_train = np.array([[1],[2],[3],[4],[5],[6],[7]])\n",
    "y_test = np.array([[1],[2],[3],[4],[5],[6],[7]])\n",
    "print(np.shape(x))\n",
    "\n",
    "\n",
    "# scale inputs\n",
    "pixel_means = x_train.mean(axis=(0), keepdims=True)\n",
    "pixel_stds = x_train.std(axis=(0), keepdims=True)\n",
    "x_train_scaled = (x_train - pixel_means) / pixel_stds\n",
    "x_test_scaled = (x_test - pixel_means) / pixel_stds\n",
    "\n",
    "x_train."
   ]
  },
  {
   "cell_type": "code",
   "execution_count": 42,
   "metadata": {
    "colab": {
     "base_uri": "https://localhost:8080/",
     "height": 34
    },
    "colab_type": "code",
    "executionInfo": {
     "elapsed": 586,
     "status": "ok",
     "timestamp": 1575851889409,
     "user": {
      "displayName": "Sang Hun Chung",
      "photoUrl": "",
      "userId": "17916034272358538138"
     },
     "user_tz": 300
    },
    "id": "LEmpX2nCFlNw",
    "outputId": "a2c189ec-9e52-41f7-ac69-06f29dbbc7a4"
   },
   "outputs": [
    {
     "name": "stdout",
     "output_type": "stream",
     "text": [
      "(7, 1)\n"
     ]
    }
   ],
   "source": [
    "y = y_train.tolist()\n",
    "print(np.shape(y_train))"
   ]
  },
  {
   "cell_type": "code",
   "execution_count": 46,
   "metadata": {
    "colab": {
     "base_uri": "https://localhost:8080/",
     "height": 106
    },
    "colab_type": "code",
    "executionInfo": {
     "elapsed": 2869,
     "status": "ok",
     "timestamp": 1575852078683,
     "user": {
      "displayName": "Sang Hun Chung",
      "photoUrl": "",
      "userId": "17916034272358538138"
     },
     "user_tz": 300
    },
    "id": "hZhKUg1n4gQM",
    "outputId": "501cf9eb-db4f-475c-e54e-163452d54be7"
   },
   "outputs": [
    {
     "name": "stderr",
     "output_type": "stream",
     "text": [
      "/usr/local/lib/python3.6/dist-packages/sklearn/ensemble/gradient_boosting.py:1450: DataConversionWarning: A column-vector y was passed when a 1d array was expected. Please change the shape of y to (n_samples, ), for example using ravel().\n",
      "  y = column_or_1d(y, warn=True)\n",
      "/usr/local/lib/python3.6/dist-packages/sklearn/utils/validation.py:724: DataConversionWarning: A column-vector y was passed when a 1d array was expected. Please change the shape of y to (n_samples, ), for example using ravel().\n",
      "  y = column_or_1d(y, warn=True)\n"
     ]
    }
   ],
   "source": [
    "# fit\n",
    "Fit1 = KRR.fit(x_train,y_train)\n",
    "Fit2 = lasso.fit(x_train,y_train)\n",
    "Fit3 = ENet.fit(x_train,y_train)\n",
    "Fit4 = GBoost.fit(x_train,y_train)\n",
    "Fit5 = XGBoost.fit(x_train,y_train)\n",
    "Fit6 = LightgBoost.fit(x_train,y_train)\n",
    "#stack_gen_t = stack_gen.fit(x_train,y_train)\n",
    "#historyS = modelS.fit(x_train_scaled, y_train, epochs=n_epochs, validation_split=0.3,\n",
    "#                    callbacks= [early_stopping_cb])\n",
    "\n",
    "# evluate\n",
    "\n",
    "EV1 = KRR.score(x_test, y_test)\n",
    "EV2 = lasso.score(x_test, y_test)\n",
    "EV3 = ENet.score(x_test, y_test)\n",
    "EV4 = GBoost.score(x_test, y_test)\n",
    "EV5 = XGBoost.score(x_test, y_test)\n",
    "EV6 = LightgBoost.score(x_test, y_test)\n",
    "\n",
    "#\n",
    "\n",
    "#EV7 = stack_gen.evaluate(x_test_scaled, y_test,verbose=2)\n",
    "#EV8 = modelS.evaluate(x_test_scaled, y_test,verbose=2)\n",
    "\n",
    "# predict\n",
    "#p1 = KRR.predict(test.values)\n",
    "#p2 = lasso.predict(test.values)\n",
    "#p3 = ENet.predict(test.values)\n",
    "#p4 = GBoost.predict(test.values)\n",
    "#p5 = XGBoost.predict(test.values)\n",
    "#p6 = LightgBoost.predict(test.values)\n",
    "#p7 = stack_gen.predict(test.values)\n",
    "#p8 = modelS.predict(test.values)\n"
   ]
  },
  {
   "cell_type": "code",
   "execution_count": 0,
   "metadata": {
    "colab": {},
    "colab_type": "code",
    "id": "_LRQrNAG-VWQ"
   },
   "outputs": [],
   "source": []
  },
  {
   "cell_type": "code",
   "execution_count": 52,
   "metadata": {
    "colab": {
     "base_uri": "https://localhost:8080/",
     "height": 238
    },
    "colab_type": "code",
    "executionInfo": {
     "elapsed": 738,
     "status": "ok",
     "timestamp": 1575853177935,
     "user": {
      "displayName": "Sang Hun Chung",
      "photoUrl": "",
      "userId": "17916034272358538138"
     },
     "user_tz": 300
    },
    "id": "65pAVllO-U2h",
    "outputId": "c42ba79b-a169-4e36-c82d-72cfc3a41a2e"
   },
   "outputs": [
    {
     "data": {
      "text/html": [
       "<div>\n",
       "<style scoped>\n",
       "    .dataframe tbody tr th:only-of-type {\n",
       "        vertical-align: middle;\n",
       "    }\n",
       "\n",
       "    .dataframe tbody tr th {\n",
       "        vertical-align: top;\n",
       "    }\n",
       "\n",
       "    .dataframe thead th {\n",
       "        text-align: right;\n",
       "    }\n",
       "</style>\n",
       "<table border=\"1\" class=\"dataframe\">\n",
       "  <thead>\n",
       "    <tr style=\"text-align: right;\">\n",
       "      <th></th>\n",
       "      <th>Regressor</th>\n",
       "      <th>R2</th>\n",
       "      <th>RMSE</th>\n",
       "    </tr>\n",
       "  </thead>\n",
       "  <tbody>\n",
       "    <tr>\n",
       "      <th>0</th>\n",
       "      <td>KernelRidge</td>\n",
       "      <td>0.809083</td>\n",
       "      <td>0.0</td>\n",
       "    </tr>\n",
       "    <tr>\n",
       "      <th>1</th>\n",
       "      <td>Lasso</td>\n",
       "      <td>0.806122</td>\n",
       "      <td>0.0</td>\n",
       "    </tr>\n",
       "    <tr>\n",
       "      <th>2</th>\n",
       "      <td>ElasticNet</td>\n",
       "      <td>0.806122</td>\n",
       "      <td>0.0</td>\n",
       "    </tr>\n",
       "    <tr>\n",
       "      <th>3</th>\n",
       "      <td>GradientBoost</td>\n",
       "      <td>0.000000</td>\n",
       "      <td>0.0</td>\n",
       "    </tr>\n",
       "    <tr>\n",
       "      <th>4</th>\n",
       "      <td>XGB</td>\n",
       "      <td>0.803455</td>\n",
       "      <td>0.0</td>\n",
       "    </tr>\n",
       "    <tr>\n",
       "      <th>5</th>\n",
       "      <td>LGB</td>\n",
       "      <td>0.000000</td>\n",
       "      <td>0.0</td>\n",
       "    </tr>\n",
       "  </tbody>\n",
       "</table>\n",
       "</div>"
      ],
      "text/plain": [
       "       Regressor        R2  RMSE\n",
       "0    KernelRidge  0.809083   0.0\n",
       "1          Lasso  0.806122   0.0\n",
       "2     ElasticNet  0.806122   0.0\n",
       "3  GradientBoost  0.000000   0.0\n",
       "4            XGB  0.803455   0.0\n",
       "5            LGB  0.000000   0.0"
      ]
     },
     "execution_count": 52,
     "metadata": {
      "tags": []
     },
     "output_type": "execute_result"
    }
   ],
   "source": [
    "import pandas as pd \n",
    "from sklearn.metrics import r2_score\n",
    "from sklearn.metrics import mean_squared_error\n",
    "import math  \n",
    "import scipy.stats as stats\n",
    "from statsmodels.stats.multicomp import (pairwise_tukeyhsd,MultiComparison)\n",
    "\n",
    "data = [['KernelRidge', EV1], ['Lasso', EV2], ['ElasticNet', EV3], ['GradientBoost', EV4], ['XGB', EV5], ['LGB', EV6]] \n",
    "  \n",
    "df = pd.DataFrame(data, columns = ['Regressor', 'R2']) \n",
    "\n",
    "# R square calculation\n",
    "#r2_score(y_true, y_pred)\n",
    "# MSE calculation   \n",
    "MSE = mean_squared_error(y_train, y_test)\n",
    "\n",
    "# insert to dataframe\n",
    "# df['R^2'] = r2_score\n",
    "#df['RMSE'] = math.sqrt(mean_squared_error) \n",
    "df['RMSE'] = math.sqrt(MSE) \n",
    "\n",
    "# One Way ANOVA\n",
    "#stats.f_oneway(tillamook, newport, petersburg, magadan, tvarminne)\n",
    "\n",
    "## Tukey's multicomparison\n",
    "# Set up the data for comparison (creates a specialised object)\n",
    "#MultiComp = MultiComparison(stacked_data['result'],stacked_data['treatment'])\n",
    "\n",
    "#print(MultiComp.tukeyhsd().summary())\n",
    "\n",
    "df"
   ]
  }
 ],
 "metadata": {
  "colab": {
   "collapsed_sections": [],
   "name": "BMME_890_Project_Regression.ipynb",
   "provenance": []
  },
  "kernelspec": {
   "display_name": "Python 3",
   "language": "python",
   "name": "python3"
  }
 },
 "nbformat": 4,
 "nbformat_minor": 1
}
