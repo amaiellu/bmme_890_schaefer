{
  "nbformat": 4,
  "nbformat_minor": 0,
  "metadata": {
    "colab": {
      "name": "FinalProjectDraft7.ipynb",
      "provenance": [],
      "collapsed_sections": []
    },
    "kernelspec": {
      "display_name": "Python 3",
      "language": "python",
      "name": "python3"
    },
    "language_info": {
      "codemirror_mode": {
        "name": "ipython",
        "version": 3
      },
      "file_extension": ".py",
      "mimetype": "text/x-python",
      "name": "python",
      "nbconvert_exporter": "python",
      "pygments_lexer": "ipython3",
      "version": "3.7.3"
    }
  },
  "cells": [
    {
      "cell_type": "code",
      "metadata": {
        "colab_type": "code",
        "id": "2CiOih3SzOgq",
        "colab": {}
      },
      "source": [
        "import numpy as np\n",
        "import pandas as pd\n",
        "import os\n",
        "import sys\n",
        "import matplotlib.pyplot as plt\n",
        "from scipy.io import loadmat\n",
        "import h5py\n",
        "from scipy import signal\n",
        "from math import pi\n",
        "from sklearn.preprocessing import MinMaxScaler,StandardScaler, OneHotEncoder\n",
        "from sklearn.pipeline import Pipeline"
      ],
      "execution_count": 0,
      "outputs": []
    },
    {
      "cell_type": "code",
      "metadata": {
        "colab_type": "code",
        "id": "WwWsW4nOR2hh",
        "colab": {}
      },
      "source": [
        "# from google.colab import drive\n",
        "# drive.mount('/content/gdrive/')"
      ],
      "execution_count": 0,
      "outputs": []
    },
    {
      "cell_type": "markdown",
      "metadata": {
        "colab_type": "text",
        "id": "mdsjAjfWzOgv"
      },
      "source": [
        "### Data Import"
      ]
    },
    {
      "cell_type": "code",
      "metadata": {
        "colab_type": "code",
        "id": "WL7Bht00zOgy",
        "colab": {}
      },
      "source": [
        "# directory (dependent on what comp being used)\n",
        "# data_dir='./gdrive/My Drive/BMME890_MachineLearning/ProjectData'\n",
        "data_dir ='C:/Users/nmrubin/Desktop/BMME890MachineLearningProject/GoogleDrive/ProjectData'\n",
        "\n",
        "#import neutral position emg data\n",
        "#loadmat can't work with matlab v 7.3, use h5py\n",
        "\n",
        "#ordered by subjects 1-8\n",
        "Subjects= ['LV','KH','XH','HS','RC','NR','YZ','AM']\n",
        "\n",
        "EMG_dir = data_dir + '/EMGData/'\n",
        "Force_dir = data_dir + '/ForceData/'\n",
        "Spks_dir = data_dir + '/SpikeTrainsData/'\n",
        "# print(Subjects)\n",
        "\n",
        "#later -> go through all subjects\n",
        "for i in range(len(Subjects)): #Subject\n",
        "    Subj = Subjects[i]\n",
        "\n",
        "#for now one subject\n",
        "Subj = 'LV'"
      ],
      "execution_count": 0,
      "outputs": []
    },
    {
      "cell_type": "code",
      "metadata": {
        "colab_type": "code",
        "id": "MKUbflAJzOg2",
        "colab": {}
      },
      "source": [
        "#Fs = 1000 Hz\n",
        "\n",
        "ForceFs = 1000\n",
        "\n",
        "with h5py.File(Force_dir + Subj + '_Forces.mat', 'r') as file:\n",
        "    ForceNI = np.array(file['ForceNItrial'])\n",
        "    ForceNItime = np.array(file['ForceNItime'])\n",
        "    ForceNM = np.array(file['ForceNMtrial'])\n",
        "    ForceNMtime = np.array(file['ForceNMtime'])\n",
        "    ForceNR = np.array(file['ForceNRtrial'])\n",
        "    ForceNRtime = np.array(file['ForceNRtime'])\n",
        "    ForceNP = np.array(file['ForceNPtrial'])\n",
        "    ForceNPtime = np.array(file['ForceNPtime'])\n",
        "    \n",
        "    ForcePI = np.array(file['ForcePItrial'])\n",
        "    ForcePItime = np.array(file['ForcePItime'])\n",
        "    ForcePM = np.array(file['ForcePMtrial'])\n",
        "    ForcePMtime = np.array(file['ForcePMtime'])\n",
        "    ForcePR = np.array(file['ForcePRtrial'])\n",
        "    ForcePRtime = np.array(file['ForcePRtime'])\n",
        "    ForcePP = np.array(file['ForcePPtrial'])\n",
        "    ForcePPtime = np.array(file['ForcePPtime'])\n",
        "    \n",
        "    ForceSI = np.array(file['ForceSItrial'])\n",
        "    ForceSItime = np.array(file['ForceSItime'])\n",
        "    ForceSM = np.array(file['ForceSMtrial'])\n",
        "    ForceSMtime = np.array(file['ForceSMtime'])\n",
        "    ForceSR = np.array(file['ForceSRtrial'])\n",
        "    ForceSRtime = np.array(file['ForceSRtime'])\n",
        "    ForceSP = np.array(file['ForceSPtrial'])\n",
        "    ForceSPtime = np.array(file['ForceSPtime'])"
      ],
      "execution_count": 0,
      "outputs": []
    },
    {
      "cell_type": "code",
      "metadata": {
        "colab_type": "code",
        "id": "heEUPC17zOg4",
        "colab": {}
      },
      "source": [
        "#load emg data\n",
        "#careful, will take up ~4-8GB Memory\n",
        "\n",
        "#NPS = Neutral/Pronated/Supinated\n",
        "#IMRP = Index/Middle/Ring/Pinky\n",
        "\n",
        "#pick sample rate for appropriate subject\n",
        "if Subj == 'LV':\n",
        "    EMGFs =  2.5621e+03\n",
        "else:\n",
        "    EMGFs =  2.0497e+03\n",
        "\n",
        "with h5py.File(EMG_dir + Subj + '_EMGtrials.mat', 'r') as file:\n",
        "    EMGNI = np.array(file['EMGNI'])\n",
        "    EMGNM = np.array(file['EMGNM'])\n",
        "    EMGNR = np.array(file['EMGNR'])\n",
        "    EMGNP = np.array(file['EMGNP'])\n",
        "    \n",
        "    EMGPI = np.array(file['EMGPI'])\n",
        "    EMGPM = np.array(file['EMGPM'])\n",
        "    EMGPR = np.array(file['EMGPR'])\n",
        "    EMGPP = np.array(file['EMGPP'])\n",
        "    \n",
        "    EMGSI = np.array(file['EMGSI'])\n",
        "    EMGSM = np.array(file['EMGSM'])\n",
        "    EMGSR = np.array(file['EMGSR'])\n",
        "    EMGSP = np.array(file['EMGSP'])\n",
        "    \n",
        "#first repetition is skipped in case of user-adjustments at beginning of trial, cut off first 19 seconds of EMG data to match with force\n",
        "cutind = int(np.floor(19*EMGFs))\n",
        "EMGNI = EMGNI[:,cutind:]\n",
        "EMGNM = EMGNM[:,cutind:]\n",
        "EMGNR = EMGNR[:,cutind:]\n",
        "EMGNP = EMGNP[:,cutind:]\n",
        "\n",
        "EMGPI = EMGPI[:,cutind:]\n",
        "EMGPM = EMGPM[:,cutind:]\n",
        "EMGPR = EMGPR[:,cutind:]\n",
        "EMGPP = EMGPP[:,cutind:]\n",
        "\n",
        "EMGSI = EMGSI[:,cutind:]\n",
        "EMGSM = EMGSM[:,cutind:]\n",
        "EMGSR = EMGSR[:,cutind:]\n",
        "EMGSP = EMGSP[:,cutind:]"
      ],
      "execution_count": 0,
      "outputs": []
    },
    {
      "cell_type": "code",
      "metadata": {
        "colab_type": "code",
        "id": "xYKE15_vzOg6",
        "colab": {}
      },
      "source": [
        "#load spiketrain data\n",
        "\n",
        "#SpkTrn_PostureDecomposed_PostureforTrial_Finger\n",
        "#e.g. SpkTrnNSI = Neutral MUs, Supinated Trial, Index Finger\n",
        "#e.g. SpkTrnPPM = Pronated MUs, Pronated Trial, Middle Finger\n",
        "\n",
        "#compare Neutral MUs against MUs decomposed in Pronated/Supinated positions\n",
        "\n",
        "with h5py.File(Spks_dir + Subj + '_MUsyncscompiled.mat', 'r') as file:\n",
        "    \n",
        "    SpkTrnNNI = np.array(file['SpkTrnNNI'])\n",
        "    SpkTrnNNM = np.array(file['SpkTrnNNM'])\n",
        "    SpkTrnNNR = np.array(file['SpkTrnNNR'])\n",
        "    SpkTrnNNP = np.array(file['SpkTrnNNP'])\n",
        "    \n",
        "    SpkTrnNPI = np.array(file['SpkTrnNPI'])\n",
        "    SpkTrnNPM = np.array(file['SpkTrnNPM'])\n",
        "    SpkTrnNPR = np.array(file['SpkTrnNPR'])\n",
        "    SpkTrnNPP = np.array(file['SpkTrnNPP'])\n",
        "    \n",
        "    SpkTrnNSI = np.array(file['SpkTrnNSI'])\n",
        "    SpkTrnNSM = np.array(file['SpkTrnNSM'])\n",
        "    SpkTrnNSR = np.array(file['SpkTrnNSR'])\n",
        "    SpkTrnNSP = np.array(file['SpkTrnNSP'])\n",
        "      \n",
        "#     SpkTrnPNI = np.array(file['SpkTrnPNI'])\n",
        "#     SpkTrnPNM = np.array(file['SpkTrnPNM'])\n",
        "#     SpkTrnPNR = np.array(file['SpkTrnPNR'])\n",
        "#     SpkTrnPNP = np.array(file['SpkTrnPNP'])\n",
        "    \n",
        "    SpkTrnPPI = np.array(file['SpkTrnPPI'])\n",
        "    SpkTrnPPM = np.array(file['SpkTrnPPM'])\n",
        "    SpkTrnPPR = np.array(file['SpkTrnPPR'])\n",
        "    SpkTrnPPP = np.array(file['SpkTrnPPP'])\n",
        "    \n",
        "#     SpkTrnPSI = np.array(file['SpkTrnPSI'])\n",
        "#     SpkTrnPSM = np.array(file['SpkTrnPSM'])\n",
        "#     SpkTrnPSR = np.array(file['SpkTrnPSR'])\n",
        "#     SpkTrnPSP = np.array(file['SpkTrnPSP'])\n",
        "\n",
        "#     SpkTrnSNI = np.array(file['SpkTrnSNI'])\n",
        "#     SpkTrnSNM = np.array(file['SpkTrnSNM'])\n",
        "#     SpkTrnSNR = np.array(file['SpkTrnSNR'])\n",
        "#     SpkTrnSNP = np.array(file['SpkTrnSNP'])\n",
        "    \n",
        "#     SpkTrnSPI = np.array(file['SpkTrnSPI'])\n",
        "#     SpkTrnSPM = np.array(file['SpkTrnSPM'])\n",
        "#     SpkTrnSPR = np.array(file['SpkTrnSPR'])\n",
        "#     SpkTrnSPP = np.array(file['SpkTrnSPP'])\n",
        "    \n",
        "    SpkTrnSSI = np.array(file['SpkTrnSSI'])\n",
        "    SpkTrnSSM = np.array(file['SpkTrnSSM'])\n",
        "    SpkTrnSSR = np.array(file['SpkTrnSSR'])\n",
        "    SpkTrnSSP = np.array(file['SpkTrnSSP'])"
      ],
      "execution_count": 0,
      "outputs": []
    },
    {
      "cell_type": "markdown",
      "metadata": {
        "colab_type": "text",
        "id": "Itw4P15kzOg8"
      },
      "source": [
        "Note: After cutoff of EMG data it still has 1 extra index compared to SpkTrn, not sure why"
      ]
    },
    {
      "cell_type": "code",
      "metadata": {
        "colab_type": "code",
        "id": "PVAltg3pzOg9",
        "outputId": "04135a36-3819-4471-c47c-64686daa945c",
        "colab": {
          "base_uri": "https://localhost:8080/",
          "height": 122
        }
      },
      "source": [
        "print(np.shape(EMGNI))\n",
        "print(np.shape(SpkTrnNNI))\n",
        "print()\n",
        "print(np.shape(EMGSM))\n",
        "print(np.shape(SpkTrnSSM))\n",
        "print(np.shape(SpkTrnNSM))"
      ],
      "execution_count": 0,
      "outputs": [
        {
          "output_type": "stream",
          "text": [
            "(160, 412873)\n",
            "(23, 412873)\n",
            "\n",
            "(160, 412872)\n",
            "(32, 412872)\n",
            "(34, 412872)\n"
          ],
          "name": "stdout"
        }
      ]
    },
    {
      "cell_type": "code",
      "metadata": {
        "colab_type": "code",
        "id": "IkmqpFcnzOhB",
        "outputId": "5d666001-4333-4953-bfe6-4abcc51f7849",
        "colab": {
          "base_uri": "https://localhost:8080/",
          "height": 140
        }
      },
      "source": [
        "print('Time per trial (seconds)')\n",
        "forcetime = np.size(ForceNP)/1000\n",
        "spktime = np.shape(SpkTrnNNM)[1]/EMGFs\n",
        "emgtime = np.shape(EMGPI)[1]/EMGFs\n",
        "print('Force Time')\n",
        "print(forcetime)\n",
        "print('EMG Time')\n",
        "print(emgtime)\n",
        "print('SpkTrain Time')\n",
        "print(spktime)"
      ],
      "execution_count": 0,
      "outputs": [
        {
          "output_type": "stream",
          "text": [
            "Time per trial (seconds)\n",
            "Force Time\n",
            "161.0\n",
            "EMG Time\n",
            "161.11392997931384\n",
            "SpkTrain Time\n",
            "161.1318840014051\n"
          ],
          "name": "stdout"
        }
      ]
    },
    {
      "cell_type": "code",
      "metadata": {
        "colab_type": "code",
        "id": "TwrLPErFzOhD",
        "outputId": "eefaa552-bc72-4513-82db-0bfedc3ca76f",
        "colab": {
          "base_uri": "https://localhost:8080/",
          "height": 140
        }
      },
      "source": [
        "#check shape of data as it is now\n",
        "print('Shape of data')\n",
        "print('Force shape')\n",
        "print(np.shape(ForceNI))\n",
        "print('EMG shape')\n",
        "print(np.shape(EMGNI))\n",
        "print('Spike Train shape')\n",
        "print(np.shape(SpkTrnNNI))"
      ],
      "execution_count": 0,
      "outputs": [
        {
          "output_type": "stream",
          "text": [
            "Shape of data\n",
            "Force shape\n",
            "(1, 161000)\n",
            "EMG shape\n",
            "(160, 412873)\n",
            "Spike Train shape\n",
            "(23, 412873)\n"
          ],
          "name": "stdout"
        }
      ]
    },
    {
      "cell_type": "markdown",
      "metadata": {
        "colab_type": "text",
        "id": "ISt36VZTzOhF"
      },
      "source": [
        "Get RMS for EMG signals of top 85 channels"
      ]
    },
    {
      "cell_type": "code",
      "metadata": {
        "colab_type": "code",
        "id": "cPW6ZOHfzOhF",
        "colab": {}
      },
      "source": [
        "#calculate average rms of top channels\n",
        "#check this\n",
        "def rms(matrix,axis):\n",
        "  \n",
        "  return np.sqrt(np.mean(matrix**2,axis=axis))\n",
        "\n",
        "def rms_top_channels(matrix,topN):\n",
        "  rmsmatrix=rms(matrix,1)\n",
        "  channelInd=np.argpartition(rmsmatrix,-topN)[-topN:] \n",
        "  topchannels=np.mean(matrix[channelInd,:],axis=0)\n",
        "  return topchannels"
      ],
      "execution_count": 0,
      "outputs": []
    },
    {
      "cell_type": "code",
      "metadata": {
        "colab_type": "code",
        "id": "EzeFmGvHzOhH",
        "colab": {}
      },
      "source": [
        "#get mean rms values of top 85 channels\n",
        "NIrms=rms_top_channels(EMGNI,85)\n",
        "NMrms=rms_top_channels(EMGNM,85)\n",
        "NRrms=rms_top_channels(EMGNR,85)\n",
        "NPrms=rms_top_channels(EMGNP,85)\n",
        "\n",
        "PIrms=rms_top_channels(EMGPI,85)\n",
        "PMrms=rms_top_channels(EMGPM,85)\n",
        "PRrms=rms_top_channels(EMGPR,85)\n",
        "PPrms=rms_top_channels(EMGPP,85)\n",
        "\n",
        "SIrms=rms_top_channels(EMGSI,85)\n",
        "SMrms=rms_top_channels(EMGSM,85)\n",
        "SRrms=rms_top_channels(EMGSR,85)\n",
        "SPrms=rms_top_channels(EMGSP,85)\n",
        "#remove number of steps corresponding to extra time from emg data\n",
        "# NIrms=NIchannels[:,int((len(NIrms[0])*1/EMGFs-len(ForceNI)*1/1000)*EMGFs):]\n",
        "# NMrms=NIchannels[:,int((len(NMrms[0])*1/EMGFs-len(ForceNM)*1/1000)*EMGFs):]"
      ],
      "execution_count": 0,
      "outputs": []
    },
    {
      "cell_type": "code",
      "metadata": {
        "colab_type": "code",
        "id": "N5yDx2fkzOhJ",
        "colab": {}
      },
      "source": [
        "#calculate a rolling window, 500ms long incremented by 100ms\n",
        "#need to have windows of the average times as well (i.e. [.25, .35, .45...etc])\n",
        "def rolling_windows(signal,window,step,frequency):\n",
        "    \n",
        "    #check which dimension is time/longer\n",
        "    dim = np.argmax(np.shape(signal))\n",
        "    \n",
        "    windowSize=round(window*frequency)  \n",
        "    stepSize=round(step*frequency)\n",
        "    windows=[]\n",
        "    windtimes = []\n",
        "    for start in np.arange(0,signal.shape[dim]-windowSize+1,stepSize):\n",
        "        \n",
        "        #track window times\n",
        "        if start == 0: #start at half a window\n",
        "            windtimes.append(window/2)\n",
        "        else: #increment by one window step size\n",
        "            windtimes.append(windtimes[-1] + step)\n",
        "        \n",
        "        end=start+windowSize\n",
        "        \n",
        "        if len(np.shape(signal)) == 1: #if column vector\n",
        "            windows.append(np.array(signal[start:end]))\n",
        "        else:\n",
        "            if dim == 0:\n",
        "                windows.append(np.array(signal[start:end,:])) #go down rows\n",
        "            else:\n",
        "                windows.append(np.array(signal[:,start:end])) #go down column\n",
        "    \n",
        "    return windows,windtimes\n",
        "\n",
        "#get indices of the windows needed for cross-validation\n",
        "def crossvalidataprep(windtimes):\n",
        "    windtimes = np.array(windtimes)\n",
        "    crossvalsectind = []\n",
        "    Crossvaltimes = [0,26,49,72,95,118,141] #seconds, timing cutoffs for each repetition (7 total, last 141-end)\n",
        "    for i in range(len(Crossvaltimes)):\n",
        "        if i == 0:\n",
        "            crossvalsectind.append(0)\n",
        "        else:\n",
        "            tmp = windtimes - Crossvaltimes[i]\n",
        "            crossvalsectind.append(np.argmin(np.abs(tmp)))          \n",
        "    return crossvalsectind\n",
        "#crossvalsectind is vector of 6 values\n",
        "#section 1 = crossvalind[0] thru crossvalidind[1]-1\n",
        "#section 7 = crossvalind[end] to last window in signal"
      ],
      "execution_count": 0,
      "outputs": []
    },
    {
      "cell_type": "code",
      "metadata": {
        "colab_type": "code",
        "id": "aQ40Hzj4S0b_",
        "colab": {}
      },
      "source": [
        "#feature generation, compute new features and combine into dataframe\n",
        "\n",
        "def extrafeatures(RMSEMGwind):\n",
        "    zc = []\n",
        "    ssc = []\n",
        "    std = []\n",
        "    maxamp = []\n",
        "\n",
        "    for window in RMSEMGwind:\n",
        "\n",
        "        #zero crossings\n",
        "        zc.append(len(np.ravel(np.diff(np.sign(window))).nonzero()[0]))\n",
        "\n",
        "        #ssc\n",
        "        dev2=np.gradient(np.gradient(window))\n",
        "        ssc.append(len(np.ravel(np.diff(np.sign(dev2))).nonzero()[0]))\n",
        "\n",
        "        #max amplitude\n",
        "        maxamp.append(np.max(window))\n",
        "\n",
        "        #std deviation\n",
        "        std.append(np.std(window))\n",
        "        \n",
        "        extrafeat = pd.DataFrame({'Zero-Cross': zc,'SSC': ssc, 'STD' : std, 'Maxamp': maxamp})\n",
        "        \n",
        "    return extrafeat"
      ],
      "execution_count": 0,
      "outputs": []
    },
    {
      "cell_type": "code",
      "metadata": {
        "colab_type": "code",
        "id": "LNTISd11zOhL",
        "colab": {}
      },
      "source": [
        "#Calculate firing rate of Spike Train across windows (1603 windows)\n",
        "def FRwind(SpkTrn,WinLength,StepLength,EMGFs):\n",
        "# SpkTrn = SpkTrnNNI\n",
        "# dim = np.argmax(np.shape(signal))\n",
        "    emglength = np.shape(SpkTrn)[1]\n",
        "    WinLength = 0.5 #seconds\n",
        "    StepLength = 0.1\n",
        "    WinNumSample = int(EMGFs*WinLength)\n",
        "    StepNumSample = int(EMGFs*StepLength)\n",
        "    TimeMax = emglength/EMGFs\n",
        "    TimeWin = np.arange(WinNumSample/EMGFs,TimeMax,StepNumSample/EMGFs,dtype='float')\n",
        "    timeemg = np.arange(1/EMGFs,(1+emglength)/EMGFs,1/EMGFs,dtype='float')\n",
        "\n",
        "    FR = []\n",
        "\n",
        "    MUs = np.shape(SpkTrn)[0]\n",
        "\n",
        "    for i in range(1+np.size(TimeWin)):\n",
        "        if i == 0: #first window\n",
        "            windstartind = 0\n",
        "            windstopind = np.argmin(abs(timeemg - WinLength))\n",
        "\n",
        "        else: #move window forward\n",
        "            windstartind = windstartind + StepNumSample + 1\n",
        "            windstopind = windstopind + StepNumSample + 1\n",
        "\n",
        "        if windstopind > emglength: #if next window goes past length of EMG, cut it off early\n",
        "            windstopind = emglength\n",
        "            WinLength = (windstopind - windstartind + 1)/EMGFs #last window time for new FR computation\n",
        "\n",
        "        #compute firing rate in window\n",
        "        FRtemp = np.zeros((1,MUs))\n",
        "        for mu in range(MUs):\n",
        "            FRtemp[0,mu] = np.count_nonzero(SpkTrn[mu,windstartind:windstopind])/WinLength\n",
        "\n",
        "        FR.append((np.mean(FRtemp))) #get average firing rate\n",
        "\n",
        "        if windstopind == emglength: #end of that was last window\n",
        "            break\n",
        "    return FR"
      ],
      "execution_count": 0,
      "outputs": []
    },
    {
      "cell_type": "code",
      "metadata": {
        "colab_type": "code",
        "id": "2SdgH-duTKtt",
        "colab": {}
      },
      "source": [
        "#get firing rate windows\n",
        "WinLength = .5\n",
        "StepLength = .1\n",
        "FRwindNNI = FRwind(SpkTrnNNI,WinLength,StepLength,EMGFs)\n",
        "FRwindNNM = FRwind(SpkTrnNNM,WinLength,StepLength,EMGFs)\n",
        "FRwindNNR = FRwind(SpkTrnNNR,WinLength,StepLength,EMGFs)\n",
        "FRwindNNP = FRwind(SpkTrnNNP,WinLength,StepLength,EMGFs)\n",
        "\n",
        "FRwindNSI = FRwind(SpkTrnNSI,WinLength,StepLength,EMGFs)\n",
        "FRwindNSM = FRwind(SpkTrnNSM,WinLength,StepLength,EMGFs)\n",
        "FRwindNSR = FRwind(SpkTrnNSR,WinLength,StepLength,EMGFs)\n",
        "FRwindNSP = FRwind(SpkTrnNSP,WinLength,StepLength,EMGFs)\n",
        "\n",
        "FRwindNPI = FRwind(SpkTrnNPI,WinLength,StepLength,EMGFs)\n",
        "FRwindNPM = FRwind(SpkTrnNPM,WinLength,StepLength,EMGFs)\n",
        "FRwindNPR = FRwind(SpkTrnNPR,WinLength,StepLength,EMGFs)\n",
        "FRwindNPP = FRwind(SpkTrnNPP,WinLength,StepLength,EMGFs)\n",
        "\n",
        "FRwindPPI = FRwind(SpkTrnNPI,WinLength,StepLength,EMGFs)\n",
        "FRwindPPM = FRwind(SpkTrnNPM,WinLength,StepLength,EMGFs)\n",
        "FRwindPPR = FRwind(SpkTrnNPR,WinLength,StepLength,EMGFs)\n",
        "FRwindPPP = FRwind(SpkTrnPPP,WinLength,StepLength,EMGFs)\n",
        "\n",
        "FRwindSSI = FRwind(SpkTrnSSI,WinLength,StepLength,EMGFs)\n",
        "FRwindSSM = FRwind(SpkTrnSSM,WinLength,StepLength,EMGFs)\n",
        "FRwindSSR = FRwind(SpkTrnSSR,WinLength,StepLength,EMGFs)\n",
        "FRwindSSP = FRwind(SpkTrnSSP,WinLength,StepLength,EMGFs)"
      ],
      "execution_count": 0,
      "outputs": []
    },
    {
      "cell_type": "code",
      "metadata": {
        "colab_type": "code",
        "id": "GdvyCZzrzOhN",
        "colab": {}
      },
      "source": [
        "#Get emg windows\n",
        "EMGNIwind,EMGNIwindtimes = rolling_windows(NIrms,.5,.1,EMGFs)\n",
        "ForceNIwind,ForceNIwindtimes = rolling_windows(ForceNI,.5,.1,1000)\n",
        "EMGNMwind,EMGNMwindtimes = rolling_windows(NMrms,.5,.1,EMGFs)\n",
        "ForceNMwind,ForceNMwindtimes = rolling_windows(ForceNM,.5,.1,1000)\n",
        "EMGNRwind,EMGNRwindtimes = rolling_windows(NRrms,.5,.1,EMGFs)\n",
        "ForceNRwind,ForceNRwindtimes = rolling_windows(ForceNR,.5,.1,1000)\n",
        "EMGNPwind,EMGNPwindtimes = rolling_windows(NPrms,.5,.1,EMGFs)\n",
        "ForceNPwind,ForceNPwindtimes = rolling_windows(ForceNP,.5,.1,1000)\n",
        "EMGPIwind,EMGPIwindtimes = rolling_windows(PIrms,.5,.1,EMGFs)\n",
        "ForcePIwind,ForcePIwindtimes = rolling_windows(ForcePI,.5,.1,1000)\n",
        "EMGPMwind,EMGPMwindtimes = rolling_windows(PMrms,.5,.1,EMGFs)\n",
        "ForcePMwind,ForcePMwindtimes = rolling_windows(ForcePM,.5,.1,1000)\n",
        "EMGPRwind,EMGPRwindtimes = rolling_windows(PRrms,.5,.1,EMGFs)\n",
        "ForcePRwind,ForcePRwindtimes = rolling_windows(ForcePR,.5,.1,1000)\n",
        "EMGPPwind,EMGPPwindtimes = rolling_windows(PPrms,.5,.1,EMGFs)\n",
        "ForcePPwind,ForcePPwindtimes = rolling_windows(ForcePP,.5,.1,1000)\n",
        "EMGSIwind,EMGSIwindtimes = rolling_windows(SIrms,.5,.1,EMGFs)\n",
        "ForceSIwind,ForceSIwindtimes = rolling_windows(ForceSI,.5,.1,1000)\n",
        "EMGSMwind,EMGSMwindtimes = rolling_windows(SMrms,.5,.1,EMGFs)\n",
        "ForceSMwind,ForceSMwindtimes = rolling_windows(ForceSM,.5,.1,1000)\n",
        "EMGSRwind,EMGSRwindtimes = rolling_windows(SRrms,.5,.1,EMGFs)\n",
        "ForceSRwind,ForceSRwindtimes = rolling_windows(ForceSR,.5,.1,1000)\n",
        "EMGSPwind,EMGSPwindtimes = rolling_windows(SPrms,.5,.1,EMGFs)\n",
        "ForceSPwind,ForceSPwindtimes = rolling_windows(ForceSP,.5,.1,1000)\n",
        "#should be same # windows for all of them, only need this once\n",
        "crossvalsectind = crossvalidataprep(EMGNIwindtimes)"
      ],
      "execution_count": 0,
      "outputs": []
    },
    {
      "cell_type": "code",
      "metadata": {
        "colab_type": "code",
        "id": "fmpHTtsbY8vG",
        "colab": {}
      },
      "source": [
        "NIfeats=extrafeatures(EMGNIwind)\n",
        "NMfeats=extrafeatures(EMGNMwind)\n",
        "NRfeats=extrafeatures(EMGNRwind)\n",
        "NPfeats=extrafeatures(EMGNPwind)\n",
        "\n",
        "PIfeats=extrafeatures(EMGPIwind)\n",
        "PMfeats=extrafeatures(EMGPMwind)\n",
        "PRfeats=extrafeatures(EMGPRwind)\n",
        "PPfeats=extrafeatures(EMGPPwind)\n",
        "\n",
        "SIfeats=extrafeatures(EMGSIwind)\n",
        "SMfeats=extrafeatures(EMGSMwind)\n",
        "SRfeats=extrafeatures(EMGSRwind)\n",
        "SPfeats=extrafeatures(EMGSPwind)"
      ],
      "execution_count": 0,
      "outputs": []
    },
    {
      "cell_type": "markdown",
      "metadata": {
        "colab_type": "text",
        "id": "H29pejMdzOhT"
      },
      "source": [
        "Cross-Correlate EMG/SpikeTrains & Force Data to account for delay; still needs solving"
      ]
    },
    {
      "cell_type": "code",
      "metadata": {
        "colab_type": "code",
        "id": "qQYHQav0zOhV",
        "colab": {}
      },
      "source": [
        "def crosscorr(a,b):\n",
        "  lag=np.correlate(a-np.mean(a),b-np.mean(b),mode='full')\n",
        "  lag=np.argmax(lag)-len(b)\n",
        "  return lag\n"
      ],
      "execution_count": 0,
      "outputs": []
    },
    {
      "cell_type": "code",
      "metadata": {
        "colab_type": "code",
        "id": "Q_C_XH2-jgxM",
        "colab": {}
      },
      "source": [
        "#rms\n",
        "EMGNIrms=[np.mean(rms(np.expand_dims(window,1),1)) for window in EMGNIwind]\n",
        "EMGNMrms=[np.mean(rms(np.expand_dims(window,0),1)) for window in EMGNMwind]\n",
        "EMGNRrms=[np.mean(rms(np.expand_dims(window,0),1)) for window in EMGNRwind]\n",
        "EMGNPrms=[np.mean(rms(np.expand_dims(window,0),1)) for window in EMGNPwind]\n",
        "EMGNIrms=[np.mean(rms(np.expand_dims(window,0),1)) for window in EMGNIwind]\n",
        "\n",
        "EMGPIrms=[np.mean(rms(np.expand_dims(window,0),1)) for window in EMGPIwind]\n",
        "EMGPMrms=[np.mean(rms(np.expand_dims(window,0),1)) for window in EMGPMwind]\n",
        "EMGPRrms=[np.mean(rms(np.expand_dims(window,0),1)) for window in EMGPRwind]\n",
        "EMGPPrms=[np.mean(rms(np.expand_dims(window,0),1)) for window in EMGPPwind]\n",
        "\n",
        "EMGSIrms=[np.mean(rms(np.expand_dims(window,0),1)) for window in EMGSIwind]\n",
        "EMGSMrms=[np.mean(rms(np.expand_dims(window,0),1)) for window in EMGSMwind]\n",
        "EMGSRrms=[np.mean(rms(np.expand_dims(window,0),1)) for window in EMGSRwind]\n",
        "EMGSPrms=[np.mean(rms(np.expand_dims(window,0),1)) for window in EMGSPwind]\n",
        "\n",
        "# get mean for force windows\n",
        "ForceNImean=[np.mean(window,axis=1) for window in ForceNIwind]\n",
        "ForceNMmean=[np.mean(window,axis=1) for window in ForceNMwind]\n",
        "ForceNRmean=[np.mean(window,axis=1) for window in ForceNRwind]\n",
        "ForceNPmean=[np.mean(window,axis=1) for window in ForceNPwind]\n",
        "\n",
        "ForcePImean=[np.mean(window,axis=1) for window in ForcePIwind]\n",
        "ForcePMmean=[np.mean(window,axis=1) for window in ForcePMwind]\n",
        "ForcePRmean=[np.mean(window,axis=1) for window in ForcePRwind]\n",
        "ForcePPmean=[np.mean(window,axis=1) for window in ForcePPwind]\n",
        "\n",
        "ForceSImean=[np.mean(window,axis=1) for window in ForceSIwind]\n",
        "ForceSMmean=[np.mean(window,axis=1) for window in ForceSMwind]\n",
        "ForceSRmean=[np.mean(window,axis=1) for window in ForceSRwind]\n",
        "ForceSPmean=[np.mean(window,axis=1) for window in ForceSPwind]"
      ],
      "execution_count": 0,
      "outputs": []
    },
    {
      "cell_type": "markdown",
      "metadata": {
        "colab_type": "text",
        "id": "RdbpOX0czOhZ"
      },
      "source": [
        "PLOT: before-after representative cross-correlation to fix lag-time between force & and emg/SpikeTrain data\n",
        "Feature Extraction/Engineering:"
      ]
    },
    {
      "cell_type": "code",
      "metadata": {
        "colab_type": "code",
        "id": "beqNrxU2qtDd",
        "outputId": "be4864bd-dc77-4a88-911c-ae5e40365d5c",
        "colab": {
          "base_uri": "https://localhost:8080/",
          "height": 34
        }
      },
      "source": [
        "#remove extra dim\n",
        "test=np.squeeze(ForceNImean)\n",
        "delay=crosscorr(test,EMGNIrms[0:1605])\n",
        "delay"
      ],
      "execution_count": 0,
      "outputs": [
        {
          "output_type": "execute_result",
          "data": {
            "text/plain": [
              "-2"
            ]
          },
          "metadata": {
            "tags": []
          },
          "execution_count": 27
        }
      ]
    },
    {
      "cell_type": "code",
      "metadata": {
        "colab_type": "code",
        "id": "L2mbiy0CN34o",
        "outputId": "3248aabe-af58-4ef2-c192-2691437fe0ec",
        "colab": {
          "base_uri": "https://localhost:8080/",
          "height": 282
        }
      },
      "source": [
        "#let's do cross correlation\n",
        "tfrm_pipeline=Pipeline([('minmax_scaler', MinMaxScaler())])\n",
        "fi=tfrm_pipeline.fit_transform(np.array(np.squeeze(ForceNImean)).reshape(-1,1))\n",
        "ni=tfrm_pipeline.fit_transform(np.array(EMGNIrms).reshape(-1,1))\n",
        "\n",
        "ftime=np.linspace(0,161,len(test))\n",
        "etime=np.linspace(0,161.11,len(EMGNIrms))\n",
        "plt.plot(ftime,fi,color='r')\n",
        "plt.plot(etime,ni,color='b')\n",
        "\n",
        "NIrms_shifted=np.roll(EMGNIrms,shift=-delay)\n",
        "nis=tfrm_pipeline.fit_transform(NIrms_shifted.reshape(-1,1))\n",
        "plt.plot(etime,nis,color='g')\n",
        "plt.xlim(0,20)\n"
      ],
      "execution_count": 0,
      "outputs": [
        {
          "output_type": "execute_result",
          "data": {
            "text/plain": [
              "(0, 20)"
            ]
          },
          "metadata": {
            "tags": []
          },
          "execution_count": 28
        },
        {
          "output_type": "display_data",
          "data": {
            "image/png": "[encoded data removed]",
            "text/plain": [
              "<Figure size 432x288 with 1 Axes>"
            ]
          },
          "metadata": {
            "tags": [],
            "needs_background": "light"
          }
        }
      ]
    },
    {
      "cell_type": "code",
      "metadata": {
        "colab_type": "code",
        "id": "6jWUSmnDu576",
        "colab": {}
      },
      "source": [
        "# get cross correlations for all above\n",
        "delayNI=crosscorr(np.squeeze(ForceNImean), EMGNIrms)\n",
        "delayNM=crosscorr(np.squeeze(ForceNImean), EMGNMrms)\n",
        "delayNR=crosscorr(np.squeeze(ForceNImean), EMGNRrms)\n",
        "delayNP=crosscorr(np.squeeze(ForceNImean), EMGNPrms)\n",
        "\n",
        "delayPI=crosscorr(np.squeeze(ForcePImean), EMGPIrms)\n",
        "delayPM=crosscorr(np.squeeze(ForcePMmean), EMGPMrms)\n",
        "delayPR=crosscorr(np.squeeze(ForcePRmean), EMGPRrms)\n",
        "delayPP=crosscorr(np.squeeze(ForcePPmean), EMGPPrms)\n",
        "\n",
        "delaySI=crosscorr(np.squeeze(ForceSImean), EMGSIrms)\n",
        "delaySM=crosscorr(np.squeeze(ForceSMmean), EMGSMrms)\n",
        "delaySR=crosscorr(np.squeeze(ForceSRmean), EMGSRrms)\n",
        "delaySP=crosscorr(np.squeeze(ForceSPmean), EMGSPrms)\n",
        "\n"
      ],
      "execution_count": 0,
      "outputs": []
    },
    {
      "cell_type": "code",
      "metadata": {
        "colab_type": "code",
        "id": "oX1U8xlcxJqM",
        "colab": {}
      },
      "source": [
        "def trim_delay(delay,data,rms,force,finaltrim):\n",
        "  trimmedData=pd.DataFrame()\n",
        "  for feature in data.columns:\n",
        "    featdata=np.roll(data[feature],shift=abs(delay))\n",
        "    featdata=featdata[abs(delay):]\n",
        "    trimmedData[feature]=featdata\n",
        "  \n",
        "  force=np.squeeze(force)\n",
        "  trimmedForce=force[abs(delay):]  \n",
        "  trimmedRMS=rms[abs(delay):]\n",
        "  trimmedData['rms']=trimmedRMS\n",
        "  trimmedData=trimmedData.iloc[0:finaltrim]\n",
        "  trimmedForce=trimmedForce[0:finaltrim]\n",
        "  return trimmedData,trimmedForce\n",
        "\n",
        "smallestLength=1603\n",
        "EMGNItrim,ForceNItrim=trim_delay(delayNI,NIfeats,EMGNIrms,ForceNImean,smallestLength)\n",
        "EMGNMtrim,ForceNMtrim=trim_delay(delayNM,NMfeats,EMGNMrms,ForceNMmean,smallestLength)\n",
        "EMGNRtrim,ForceNRtrim=trim_delay(delayNR,NRfeats,EMGNRrms,ForceNRmean,smallestLength)\n",
        "EMGNPtrim,ForceNPtrim=trim_delay(delayNP,NPfeats,EMGNPrms,ForceNPmean,smallestLength)\n",
        "\n",
        "EMGPItrim,ForcePItrim=trim_delay(delayPI,PIfeats,EMGPIrms,ForcePImean,smallestLength)\n",
        "EMGPMtrim,ForcePMtrim=trim_delay(delayPM,PMfeats,EMGPMrms,ForcePMmean,smallestLength)\n",
        "EMGPRtrim,ForcePRtrim=trim_delay(delayPR,PRfeats,EMGPRrms,ForcePRmean,smallestLength)\n",
        "EMGPPtrim,ForcePPtrim=trim_delay(delayPP,PPfeats,EMGPPrms,ForcePPmean,smallestLength)\n",
        "\n",
        "EMGSItrim,ForceSItrim=trim_delay(delaySI,SIfeats,EMGSIrms,ForceSImean,smallestLength)\n",
        "EMGSMtrim,ForceSMtrim=trim_delay(delaySM,SMfeats,EMGSMrms,ForceSMmean,smallestLength)\n",
        "EMGSRtrim,ForceSRtrim=trim_delay(delaySR,SRfeats,EMGSRrms,ForceSRmean,smallestLength)\n",
        "EMGSPtrim,ForceSPtrim=trim_delay(delaySP,SPfeats,EMGSPrms,ForceSPmean,smallestLength)"
      ],
      "execution_count": 0,
      "outputs": []
    },
    {
      "cell_type": "code",
      "metadata": {
        "id": "6ZI2DH8gn1CX",
        "colab_type": "code",
        "colab": {},
        "outputId": "e2fc7b42-2991-41fd-cb3a-8928fa8d34d4"
      },
      "source": [
        "np.shape(FRwind)"
      ],
      "execution_count": 0,
      "outputs": [
        {
          "output_type": "execute_result",
          "data": {
            "text/plain": [
              "(1603, 5)"
            ]
          },
          "metadata": {
            "tags": []
          },
          "execution_count": 39
        }
      ]
    },
    {
      "cell_type": "markdown",
      "metadata": {
        "colab_type": "text",
        "id": "jsOEECsFzOha"
      },
      "source": [
        "PLOT: View correlations of features, remove some/etc.\n",
        "Regression of Features to Force for Prediction:"
      ]
    },
    {
      "cell_type": "markdown",
      "metadata": {
        "colab_type": "text",
        "id": "U6rBz9HmzOhb"
      },
      "source": [
        "Prep Regressors"
      ]
    },
    {
      "cell_type": "code",
      "metadata": {
        "colab_type": "code",
        "id": "k0jy0ioQzOhb",
        "colab": {}
      },
      "source": [
        "# ICA: already done\n",
        "# PCA + K-Means\n",
        "# EMG Time-Domain & Frequency Domain Features:\n",
        "#     RMS\n",
        "#     zero-crossings\n",
        "# ANN???"
      ],
      "execution_count": 0,
      "outputs": []
    },
    {
      "cell_type": "code",
      "metadata": {
        "colab_type": "code",
        "id": "81pLG5BizOhd",
        "colab": {}
      },
      "source": [
        "# For MUs:\n",
        "#     Linear (try separate groups/coefficients for each MU, but also try using average Firing rate as one coefficient, what my post-doc has used)\n",
        "# For EMG:\n",
        "#     Linear\n",
        "#     ANN\n",
        "#     SVM\n",
        "#     ElasticNet\n",
        "#     Lasso\n",
        "#     Random-Forest\n",
        "#     Kernel-Reaching\n",
        "#     Gradient-Boost\n",
        "#     SGD Regressor"
      ],
      "execution_count": 0,
      "outputs": []
    },
    {
      "cell_type": "code",
      "metadata": {
        "colab_type": "code",
        "id": "apkZnzwKzOhe",
        "colab": {}
      },
      "source": [
        "# from sklearn.model_selection import cross_val_score,train_test_split,cross_validate\n",
        "# from sklearn import tree,linear_model,svm\n",
        "# from sklearn.preprocessing import MinMaxScaler,StandardScaler, OneHotEncoder\n",
        "# from sklearn.pipeline import Pipeline\n",
        "# from sklearn.metrics import r2_score\n",
        "# import scipy.fftpack as syfp\n",
        "# from sklearn.compose import ColumnTransformer"
      ],
      "execution_count": 0,
      "outputs": []
    },
    {
      "cell_type": "code",
      "metadata": {
        "colab_type": "code",
        "id": "cd_HWL-1zOhx",
        "colab": {}
      },
      "source": [
        "# Rather than table maybe bar chart:\n",
        "\n",
        "# 4 Bar charts (one for each finger):\n",
        "#     two sets of bars (R^2 + RMSE)\n",
        "#         one bar for each model:\n",
        "#             plot Mean +/- SD/SE across subjects\n",
        "# sort by ranking or model??\n",
        "# Use Linear for MUs, Linear + other top regressor model for comparison\n",
        "# Further Analysis\n",
        "# Comparisons repeated-measure ANOVA?\n",
        "# Compare R^2/RMSE of MU regression against EMG\n",
        "# Compare MUs regression of Neutral vs MUs decomposed in other posture"
      ],
      "execution_count": 0,
      "outputs": []
    },
    {
      "cell_type": "code",
      "metadata": {
        "id": "hEWFZscgn1Cg",
        "colab_type": "code",
        "colab": {},
        "outputId": "105dcb25-b10f-4c51-d0c7-63cf8b609fc6"
      },
      "source": [
        "from sklearn.metrics import r2_score\n",
        "from sklearn.metrics import mean_squared_error\n",
        "import math  \n",
        "\n",
        "R2 = r2_score(y_true, y_pred)\n",
        "MSE = mean_squared_error(y_true, y_pred)\n",
        "\n",
        "df['R^2'] = r2_score\n",
        "df['RMSE'] = match.sqrt(MSE)"
      ],
      "execution_count": 0,
      "outputs": [
        {
          "output_type": "error",
          "ename": "NameError",
          "evalue": "name 'y_true' is not defined",
          "traceback": [
            "\u001b[1;31m---------------------------------------------------------------------------\u001b[0m",
            "\u001b[1;31mNameError\u001b[0m                                 Traceback (most recent call last)",
            "\u001b[1;32m<ipython-input-35-893ddb51c745>\u001b[0m in \u001b[0;36m<module>\u001b[1;34m\u001b[0m\n\u001b[0;32m      3\u001b[0m \u001b[1;32mimport\u001b[0m \u001b[0mmath\u001b[0m\u001b[1;33m\u001b[0m\u001b[1;33m\u001b[0m\u001b[0m\n\u001b[0;32m      4\u001b[0m \u001b[1;33m\u001b[0m\u001b[0m\n\u001b[1;32m----> 5\u001b[1;33m \u001b[0mR2\u001b[0m \u001b[1;33m=\u001b[0m \u001b[0mr2_score\u001b[0m\u001b[1;33m(\u001b[0m\u001b[0my_true\u001b[0m\u001b[1;33m,\u001b[0m \u001b[0my_pred\u001b[0m\u001b[1;33m)\u001b[0m\u001b[1;33m\u001b[0m\u001b[1;33m\u001b[0m\u001b[0m\n\u001b[0m\u001b[0;32m      6\u001b[0m \u001b[0mMSE\u001b[0m \u001b[1;33m=\u001b[0m \u001b[0mmean_squared_error\u001b[0m\u001b[1;33m(\u001b[0m\u001b[0my_true\u001b[0m\u001b[1;33m,\u001b[0m \u001b[0my_pred\u001b[0m\u001b[1;33m)\u001b[0m\u001b[1;33m\u001b[0m\u001b[1;33m\u001b[0m\u001b[0m\n\u001b[0;32m      7\u001b[0m \u001b[1;33m\u001b[0m\u001b[0m\n",
            "\u001b[1;31mNameError\u001b[0m: name 'y_true' is not defined"
          ]
        }
      ]
    },
    {
      "cell_type": "code",
      "metadata": {
        "id": "NEnPYnZMn1Ci",
        "colab_type": "code",
        "colab": {}
      },
      "source": [
        "\n",
        "from sklearn.linear_model import ElasticNet, Lasso,  BayesianRidge, LassoLarsIC\n",
        "from sklearn.ensemble import RandomForestRegressor,  GradientBoostingRegressor\n",
        "from sklearn.kernel_ridge import KernelRidge\n",
        "from sklearn.pipeline import make_pipeline\n",
        "from sklearn.preprocessing import RobustScaler\n",
        "from sklearn.base import BaseEstimator, TransformerMixin, RegressorMixin, clone\n",
        "from sklearn.model_selection import KFold, cross_val_score, train_test_split\n",
        "from sklearn.metrics import mean_squared_error\n",
        "import xgboost as xgb\n",
        "import lightgbm as lgb\n",
        "import sklearn\n",
        "import tensorflow as tf\n",
        "from tensorflow import keras\n",
        "\n",
        "\n",
        "\n",
        "\n",
        "## regressors set - up\n",
        "KRR = KernelRidge(alpha=0.6, kernel='polynomial', degree=2, coef0=2.5)\n",
        "lasso = make_pipeline(RobustScaler(), Lasso(alpha =0.0005, random_state=1))\n",
        "ENet = make_pipeline(RobustScaler(), ElasticNet(alpha=0.0005, l1_ratio=.9, random_state=3))\n",
        "GBoost = GradientBoostingRegressor(n_estimators=3000, learning_rate=0.05,\n",
        "                                   max_depth=4, max_features='sqrt',\n",
        "                                   min_samples_leaf=15, min_samples_split=10, \n",
        "                                   loss='huber', random_state =5)\n",
        "XGBoost = xgb.XGBRegressor(colsample_bytree=0.4603, gamma=0.0468, \n",
        "                             learning_rate=0.05, max_depth=3, \n",
        "                             min_child_weight=1.7817, n_estimators=2200,\n",
        "                             reg_alpha=0.4640, reg_lambda=0.8571,\n",
        "                             subsample=0.5213, silent=1,\n",
        "                             random_state =7, nthread = -1)\n",
        "LightgBoost = lgb.LGBMRegressor(objective='regression',num_leaves=5,\n",
        "                              learning_rate=0.05, n_estimators=720,\n",
        "                              max_bin = 55, bagging_fraction = 0.8,\n",
        "                              bagging_freq = 5, feature_fraction = 0.2319,\n",
        "                              feature_fraction_seed=9, bagging_seed=9,\n",
        "                              min_data_in_leaf =6, min_sum_hessian_in_leaf = 11)\n",
        "\n",
        "# stack set-up\n",
        "from mlxtend.regressor import StackingCVRegressor\n",
        "stack_gen = StackingCVRegressor(regressors=(KRR, lasso, ENet, GBoost,XGBoost,LightgBoost),\n",
        "                                meta_regressor=XGBoost,\n",
        "                                use_features_in_secondary=True)\n",
        "\n",
        "# SELU model\n",
        "\n",
        "modelS = keras.models.Sequential()\n",
        "\n",
        "modelS.add(keras.layers.Flatten(input_shape=[32, 32, 3]))\n",
        "for n_hidden in range(5):\n",
        "    modelS.add(keras.layers.Dense(50, activation=\"selu\",kernel_initializer=\"lecun_normal\"))\n",
        "modelS.add(keras.layers.Dense(10, activation=\"softmax\"))\n",
        "\n",
        "\n",
        "optimizer = keras.optimizers.Adam(learning_rate=0.0001, beta_1=0.9, beta_2=0.999, amsgrad=False)\n",
        "modelS.compile(loss=\"sparse_categorical_crossentropy\", optimizer=optimizer, metrics=[\"accuracy\"])\n",
        "\n",
        "# NN early stopping\n",
        "early_stopping_cb = keras.callbacks.EarlyStopping(patience=10,restore_best_weights=True)\n",
        "     \n",
        "n_epochs = 100\n",
        "\n",
        "\n"
      ],
      "execution_count": 0,
      "outputs": []
    },
    {
      "cell_type": "code",
      "metadata": {
        "id": "MbNMDJAan1Ck",
        "colab_type": "code",
        "colab": {}
      },
      "source": [
        "import numpy as np\n",
        "x_train = np.array([[1,3,1,0,7],[2,2,3,4,7],[3,2,3,4,7],[4,2,3,4,7],[4,2,3,4,7],[4,2,3,4,7],[4,2,3,4,7]])\n",
        "x_test = np.array([[1,3,1,0,7],[2,2,3,4,7],[3,2,3,4,7],[4,2,3,4,7],[4,2,3,4,7],[4,2,3,4,7],[4,2,3,4,7]])\n",
        "y_train = np.array([[1],[2],[3],[4],[5],[6],[7]])\n",
        "y_test = np.array([[1],[2],[3],[4],[5],[6],[7]])\n",
        "print(np.shape(x))\n",
        "\n",
        "\n",
        "# scale inputs\n",
        "pixel_means = x_train.mean(axis=(0), keepdims=True)\n",
        "pixel_stds = x_train.std(axis=(0), keepdims=True)\n",
        "x_train_scaled = (x_train - pixel_means) / pixel_stds\n",
        "x_test_scaled = (x_test - pixel_means) / pixel_stds\n",
        "\n",
        "x_train."
      ],
      "execution_count": 0,
      "outputs": []
    },
    {
      "cell_type": "code",
      "metadata": {
        "id": "ywqMf70An1Cl",
        "colab_type": "code",
        "colab": {}
      },
      "source": [
        "y = y_train.tolist()\n",
        "print(np.shape(y_train))"
      ],
      "execution_count": 0,
      "outputs": []
    },
    {
      "cell_type": "code",
      "metadata": {
        "id": "YuXcCefQn1Cn",
        "colab_type": "code",
        "colab": {}
      },
      "source": [
        "# fit\n",
        "Fit1 = KRR.fit(x_train,y_train)\n",
        "Fit2 = lasso.fit(x_train,y_train)\n",
        "Fit3 = ENet.fit(x_train,y_train)\n",
        "Fit4 = GBoost.fit(x_train,y_train)\n",
        "Fit5 = XGBoost.fit(x_train,y_train)\n",
        "Fit6 = LightgBoost.fit(x_train,y_train)\n",
        "#stack_gen_t = stack_gen.fit(x_train,y_train)\n",
        "#historyS = modelS.fit(x_train_scaled, y_train, epochs=n_epochs, validation_split=0.3,\n",
        "#                    callbacks= [early_stopping_cb])\n",
        "\n",
        "# evluate\n",
        "\n",
        "EV1 = KRR.score(x_test, y_test)\n",
        "EV2 = lasso.score(x_test, y_test)\n",
        "EV3 = ENet.score(x_test, y_test)\n",
        "EV4 = GBoost.score(x_test, y_test)\n",
        "EV5 = XGBoost.score(x_test, y_test)\n",
        "EV6 = LightgBoost.score(x_test, y_test)\n",
        "\n",
        "#\n",
        "\n",
        "#EV7 = stack_gen.evaluate(x_test_scaled, y_test,verbose=2)\n",
        "#EV8 = modelS.evaluate(x_test_scaled, y_test,verbose=2)\n",
        "\n",
        "# predict\n",
        "#p1 = KRR.predict(test.values)\n",
        "#p2 = lasso.predict(test.values)\n",
        "#p3 = ENet.predict(test.values)\n",
        "#p4 = GBoost.predict(test.values)\n",
        "#p5 = XGBoost.predict(test.values)\n",
        "#p6 = LightgBoost.predict(test.values)\n",
        "#p7 = stack_gen.predict(test.values)\n",
        "#p8 = modelS.predict(test.values)\n",
        "# fit\n",
        "Fit1 = KRR.fit(x_train,y_train)\n",
        "Fit2 = lasso.fit(x_train,y_train)\n",
        "Fit3 = ENet.fit(x_train,y_train)\n",
        "Fit4 = GBoost.fit(x_train,y_train)\n",
        "Fit5 = XGBoost.fit(x_train,y_train)\n",
        "Fit6 = LightgBoost.fit(x_train,y_train)\n",
        "#stack_gen_t = stack_gen.fit(x_train,y_train)\n",
        "#historyS = modelS.fit(x_train_scaled, y_train, epochs=n_epochs, validation_split=0.3,\n",
        "#                    callbacks= [early_stopping_cb])\n",
        "\n",
        "# evluate\n",
        "\n",
        "EV1 = KRR.score(x_test, y_test)\n",
        "EV2 = lasso.score(x_test, y_test)\n",
        "EV3 = ENet.score(x_test, y_test)\n",
        "EV4 = GBoost.score(x_test, y_test)\n",
        "EV5 = XGBoost.score(x_test, y_test)\n",
        "EV6 = LightgBoost.score(x_test, y_test)\n",
        "\n",
        "#\n",
        "\n",
        "#EV7 = stack_gen.evaluate(x_test_scaled, y_test,verbose=2)\n",
        "#EV8 = modelS.evaluate(x_test_scaled, y_test,verbose=2)\n",
        "\n",
        "# predict\n",
        "#p1 = KRR.predict(test.values)\n",
        "#p2 = lasso.predict(test.values)\n",
        "#p3 = ENet.predict(test.values)\n",
        "#p4 = GBoost.predict(test.values)\n",
        "#p5 = XGBoost.predict(test.values)\n",
        "#p6 = LightgBoost.predict(test.values)\n",
        "#p7 = stack_gen.predict(test.values)\n",
        "#p8 = modelS.predict(test.values)\n"
      ],
      "execution_count": 0,
      "outputs": []
    },
    {
      "cell_type": "code",
      "metadata": {
        "id": "gSQCpS4Bn1Co",
        "colab_type": "code",
        "colab": {}
      },
      "source": [
        "import pandas as pd \n",
        "from sklearn.metrics import r2_score\n",
        "from sklearn.metrics import mean_squared_error\n",
        "import math  \n",
        "import scipy.stats as stats\n",
        "from statsmodels.stats.multicomp import (pairwise_tukeyhsd,MultiComparison)\n",
        "\n",
        "data = [['KernelRidge', EV1], ['Lasso', EV2], ['ElasticNet', EV3], ['GradientBoost', EV4], ['XGB', EV5], ['LGB', EV6]] \n",
        "  \n",
        "df = pd.DataFrame(data, columns = ['Regressor', 'R2']) \n",
        "\n",
        "# R square calculation\n",
        "#r2_score(y_true, y_pred)\n",
        "# MSE calculation   \n",
        "MSE = mean_squared_error(y_train, y_test)\n",
        "\n",
        "# insert to dataframe\n",
        "# df['R^2'] = r2_score\n",
        "#df['RMSE'] = math.sqrt(mean_squared_error) \n",
        "df['RMSE'] = math.sqrt(MSE) \n",
        "\n",
        "# One Way ANOVA\n",
        "#stats.f_oneway(tillamook, newport, petersburg, magadan, tvarminne)\n",
        "\n",
        "## Tukey's multicomparison\n",
        "# Set up the data for comparison (creates a specialised object)\n",
        "#MultiComp = MultiComparison(stacked_data['result'],stacked_data['treatment'])\n",
        "\n",
        "#print(MultiComp.tukeyhsd().summary())\n",
        "\n",
        "df"
      ],
      "execution_count": 0,
      "outputs": []
    }
  ]
}